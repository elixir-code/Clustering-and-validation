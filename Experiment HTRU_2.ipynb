{
 "cells": [
  {
   "cell_type": "markdown",
   "metadata": {
    "collapsed": true
   },
   "source": [
    "### Load and Sampling Data"
   ]
  },
  {
   "cell_type": "code",
   "execution_count": 3,
   "metadata": {},
   "outputs": [
    {
     "name": "stdout",
     "output_type": "stream",
     "text": [
      "No. of samples :  17898 \n",
      "No. of Features :  8\n",
      "No. of Classes : 2\n",
      "Class Distribution :  16259 1639\n"
     ]
    }
   ],
   "source": [
    "import numpy as np\n",
    "import SRC.EDA as EDA\n",
    "main = EDA.EDA(force_file=False)\n",
    "main.read_data(\"SAMPLES/LARGE/HTRU_2.csv\",label_cols=-1,normalize_labels=True)\n",
    "\n",
    "print(\"No. of samples : \",main.n_samples,\"\\nNo. of Features : \",main.n_features)\n",
    "print(\"No. of Classes :\",np.unique(main.class_labels).shape[0])\n",
    "print(\"Class Distribution : \",*np.bincount(main.class_labels))"
   ]
  },
  {
   "cell_type": "code",
   "execution_count": 5,
   "metadata": {},
   "outputs": [],
   "source": [
    "#form 10 bags of randomly choosen points of size 1000\n",
    "main.repeated_sampling(\"htru_bag\",n_iterations=10,size=1000)"
   ]
  },
  {
   "cell_type": "code",
   "execution_count": 6,
   "metadata": {},
   "outputs": [],
   "source": [
    "import pickle\n",
    "samples_bag = pickle.load(open(\"DATASETS/htru_bag1.p\",\"rb\"))\n",
    "data, labels = samples_bag[\"data\"], samples_bag[\"target\"]\n",
    "cluster_data = EDA.EDA(force_file=False)\n",
    "cluster_data.load_data(data,labels)"
   ]
  },
  {
   "cell_type": "code",
   "execution_count": 7,
   "metadata": {},
   "outputs": [
    {
     "name": "stdout",
     "output_type": "stream",
     "text": [
      "No. of samples :  1000\n",
      "No. of Classes : 2\n",
      "Class Distribution :  908 92\n"
     ]
    }
   ],
   "source": [
    "#analyse sampled points\n",
    "print(\"No. of samples : \",cluster_data.n_samples)\n",
    "print(\"No. of Classes :\",np.unique(cluster_data.class_labels).shape[0])\n",
    "print(\"Class Distribution : \",*np.bincount(cluster_data.class_labels))"
   ]
  },
  {
   "cell_type": "markdown",
   "metadata": {},
   "source": [
    "### K-Means Clustering and Evaluation"
   ]
  },
  {
   "cell_type": "code",
   "execution_count": 8,
   "metadata": {},
   "outputs": [
    {
     "name": "stdout",
     "output_type": "stream",
     "text": [
      "labels : [0 0 1 1 0 1 0 0 1 0 1 0 0 0 0 0 0 1 0 1 0 0 0 0 0 0 0 0 0 0 0 0 0 0 0 0 0\n",
      " 0 0 0 0 1 1 0 0 0 0 0 1 0 0 0 0 0 0 0 0 0 0 0 0 0 1 0 0 0 1 0 0 0 0 0 1 0\n",
      " 0 0 0 0 0 0 0 0 0 0 0 0 0 0 0 0 0 0 0 0 1 0 1 0 0 0 0 0 0 0 0 0 0 0 0 0 0\n",
      " 0 0 0 1 0 0 0 0 0 0 0 0 0 1 0 1 0 0 0 0 0 1 0 0 0 0 0 0 0 0 0 0 0 0 0 0 1\n",
      " 1 0 0 1 1 0 1 0 0 0 0 0 0 0 0 0 0 0 0 1 0 0 0 0 0 1 0 0 0 0 0 0 0 0 0 0 1\n",
      " 0 0 1 0 0 0 0 0 0 0 0 0 0 1 0 0 0 0 0 1 0 0 0 1 0 0 0 0 1 0 1 0 1 0 0 0 0\n",
      " 0 0 0 0 0 1 0 0 0 0 0 0 0 0 0 0 0 0 0 0 0 0 0 1 0 0 0 0 0 0 0 0 1 0 0 0 0\n",
      " 0 0 0 1 0 0 0 0 0 0 0 0 0 0 0 0 0 0 0 0 0 0 0 0 1 0 0 0 0 1 1 0 1 0 0 0 0\n",
      " 0 0 1 0 0 0 0 0 1 0 0 0 0 0 0 0 0 0 0 0 0 1 0 0 0 0 0 0 0 0 0 0 0 0 0 0 0\n",
      " 0 0 0 1 0 0 0 0 0 0 0 0 0 0 0 0 0 0 0 0 0 1 0 0 0 0 0 1 0 0 0 0 0 0 1 0 0\n",
      " 0 0 1 0 1 0 0 1 0 0 0 0 0 0 0 0 0 1 0 0 1 0 0 0 0 0 0 0 0 0 0 0 0 0 0 1 0\n",
      " 0 0 0 0 0 1 0 0 0 0 1 0 0 0 1 0 0 0 0 0 0 0 0 0 0 0 0 0 0 0 0 1 0 0 1 0 0\n",
      " 0 0 0 1 0 0 0 0 0 0 0 0 0 1 0 1 0 1 0 0 0 1 0 0 0 0 0 0 0 0 0 0 0 0 0 0 0\n",
      " 0 0 0 0 0 1 0 0 1 0 0 0 0 0 1 0 0 0 0 0 0 0 0 0 0 0 0 0 0 1 0 0 0 0 0 0 1\n",
      " 0 1 0 0 0 0 0 0 0 0 0 0 0 0 0 0 0 0 0 0 1 0 0 0 0 0 1 0 0 0 0 0 0 0 0 1 0\n",
      " 0 0 0 0 0 0 0 0 0 0 0 0 0 0 0 0 0 1 0 0 0 0 1 1 0 0 0 0 0 0 0 0 1 0 0 1 0\n",
      " 0 0 0 0 0 0 0 0 0 0 0 0 0 1 0 0 0 0 0 0 0 0 0 0 0 0 0 1 0 0 1 0 0 0 0 0 0\n",
      " 0 1 0 0 0 0 0 0 0 0 0 0 0 0 0 0 0 0 0 0 0 1 0 0 0 0 0 0 0 0 0 0 0 0 0 0 0\n",
      " 0 0 0 0 0 0 0 0 0 0 0 0 0 1 0 0 0 0 0 0 0 0 0 0 1 0 0 1 0 0 0 1 0 0 0 0 0\n",
      " 0 0 0 0 0 0 0 0 1 0 0 1 0 1 0 0 0 0 0 0 0 0 0 0 0 0 0 1 0 0 0 0 0 0 0 0 0\n",
      " 0 0 1 0 0 0 1 1 0 0 0 0 1 0 1 0 0 0 0 0 0 0 1 0 0 0 0 0 0 0 0 0 0 0 0 0 0\n",
      " 1 0 1 0 0 0 1 0 0 0 1 0 0 0 0 1 0 0 0 0 0 0 0 0 0 0 0 0 0 0 0 0 0 0 1 1 0\n",
      " 0 0 0 0 0 0 0 0 0 0 0 0 0 0 1 0 0 0 0 0 0 0 1 0 0 0 0 1 0 0 0 1 0 0 0 0 0\n",
      " 0 0 0 0 0 1 0 1 0 0 0 0 0 1 0 0 0 0 0 1 0 0 0 0 1 0 0 0 0 0 1 0 1 1 0 0 0\n",
      " 0 0 0 0 0 0 0 0 0 0 1 0 0 0 0 0 0 1 0 0 0 0 0 0 0 0 1 0 0 0 0 0 0 0 0 0 0\n",
      " 0 0 0 0 0 0 0 0 0 0 0 0 0 0 0 0 0 0 0 1 0 0 0 0 0 1 0 0 0 0 0 0 0 0 0 0 0\n",
      " 0 1 1 0 0 0 1 0 0 1 0 0 0 0 0 0 0 0 0 0 0 0 1 0 0 0 0 1 1 0 0 0 0 0 0 0 0\n",
      " 0]\n",
      "inertia : 7062414.38036\n",
      "cluster_centers : [[  1.10474921e+02   4.68463853e+01   5.25171057e-01   2.04342976e+00\n",
      "    1.61811108e+01   2.96084048e+01   6.95180780e+00   7.00320608e+01]\n",
      " [  1.15758781e+02   4.72903830e+01   2.10588168e-01   3.57227269e-01\n",
      "    1.09597884e+00   1.13762691e+01   1.60428692e+01   3.19411434e+02]]\n",
      "parameters : {'init': 'k-means++', 'random_state': None, 'tol': 0.0001, 'copy_x': True, 'algorithm': 'auto', 'n_jobs': -1, 'max_iter': 300, 'verbose': 0, 'n_init': 10, 'n_clusters': 2, 'precompute_distances': 'auto'}\n",
      "n_clusters : 2\n",
      "clusters : {0: 871, 1: 129}\n"
     ]
    }
   ],
   "source": [
    "cluster_data.perform_kmeans(no_clusters=2)"
   ]
  },
  {
   "cell_type": "code",
   "execution_count": 9,
   "metadata": {},
   "outputs": [
    {
     "name": "stdout",
     "output_type": "stream",
     "text": [
      "Internal Indices\n",
      "\n",
      "ball-hall index :  12777.1357395\n",
      "Banfeld-Raftery index :  8712.10666605\n",
      "Det Ratio Index :  2.61242229876\n",
      "Ksq-detw Index  : 1.01000153222e+37\n",
      "Log-det Ratio Index :  960.2778747459412\n",
      "Log SS Ratio Index :  0.00012653123066738272\n",
      "Scott-Symons Index :  24529.3789413\n",
      "Trace WiB Index :  1.61242229876\n",
      "Sillhoutte Index :  0.620067458639\n",
      "Calinski-Harabasz index :  998.126286158\n",
      "C-index :  0.108867566946\n",
      "Dunn Index :  0.006365314798089462\n",
      "Davies Bouldin Index :  0.665961819471\n",
      "Ray-Turi Index :  0.112344783977\n",
      "Hartigan Index :  -736.706735473\n",
      "PBM Index :  26205.4079979\n",
      "Score Function :  0.0\n"
     ]
    }
   ],
   "source": [
    "#measure internal metrics for kmeans clustering\n",
    "import SRC.internal_indices as intval\n",
    "val_int = intval.internal_indices(cluster_data.data,cluster_data.kmeans_results['labels'])\n",
    "\n",
    "print(\"Internal Indices\\n\")\n",
    "\n",
    "print(\"ball-hall index : \",val_int.ball_hall_index())\n",
    "print(\"Banfeld-Raftery index : \",val_int.banfeld_raftery_index())\n",
    "print(\"Det Ratio Index : \",val_int.det_ratio_index())\n",
    "print(\"Ksq-detw Index  :\",val_int.ksq_detw_index())\n",
    "print(\"Log-det Ratio Index : \",val_int.log_det_ratio_index())\n",
    "print(\"Log SS Ratio Index : \",val_int.log_ss_ratio_index())\n",
    "print(\"Scott-Symons Index : \",val_int.scott_symons_index())\n",
    "print(\"Trace WiB Index : \",val_int.trace_wib_index())\n",
    "print(\"Sillhoutte Index : \",val_int.silhouette_score())\n",
    "print(\"Calinski-Harabasz index : \",val_int.calinski_harabaz_score())\n",
    "print(\"C-index : \",val_int.c_index())\n",
    "print(\"Dunn Index : \",val_int.dunn_index())\n",
    "print(\"Davies Bouldin Index : \",val_int.davies_bouldin_index())\n",
    "print(\"Ray-Turi Index : \",val_int.ray_turi_index())\n",
    "print(\"Hartigan Index : \",val_int.hartigan_index())\n",
    "print(\"PBM Index : \",val_int.pbm_index())\n",
    "print(\"Score Function : \",val_int.score_function())"
   ]
  },
  {
   "cell_type": "code",
   "execution_count": 10,
   "metadata": {},
   "outputs": [
    {
     "name": "stdout",
     "output_type": "stream",
     "text": [
      "External Indices\n",
      "\n",
      "entropy: 0.429168038356\n",
      "precision_coefficient: 0.816325318165733\n",
      "recall_coefficient: 0.7597604600398111\n",
      "f_measure: 0.7870278481643123\n",
      "weighted_f_measure: 0.7870278481643123\n",
      "purity: 0.908\n",
      "folkes_mallows_index: 0.7875352051\n",
      "rand_index: 0.6575795795795796\n",
      "adjusted_rand_index: -0.0803827899484\n",
      "adjusted_mutual_information: 0.0238465392415\n",
      "normalized_mutual_information: 0.0281229149517\n",
      "homogeneity_score: 0.0314651042022\n",
      "completness_score: 0.0251357294194\n",
      "v_measure_score: 0.0279465263945\n",
      "jaccard_co_eff: 0.6488424709283227\n",
      "hubert_T_index: -0.08174907300078185\n",
      "kulczynski_index: 0.788042889102772\n",
      "mcnemar_index: -203.02675216676255\n",
      "phi_index: -2.1027111100776523e-12\n",
      "rogers_tanimoto_index: 0.4898462281835956\n",
      "sokal_sneath_index1: 0.4802123046112282\n",
      "sokal_sneath_index2: 0.7934214292702193\n"
     ]
    }
   ],
   "source": [
    "#measure external metrics for kmeans clustering\n",
    "import SRC.external_indices as extval\n",
    "val_ext = extval.external_indices(cluster_data.class_labels,cluster_data.kmeans_results['labels'])\n",
    "\n",
    "print(\"External Indices\\n\")\n",
    "print(\"entropy:\",val_ext.entropy())\n",
    "print(\"precision_coefficient:\",val_ext.precision_coefficient())\n",
    "print(\"recall_coefficient:\",val_ext.recall_coefficient())\n",
    "print(\"f_measure:\",val_ext.f_measure())\n",
    "print(\"weighted_f_measure:\",val_ext.weighted_f_measure())\n",
    "print(\"purity:\",val_ext.purity())\n",
    "print(\"folkes_mallows_index:\",val_ext.folkes_mallows_index())\n",
    "print(\"rand_index:\",val_ext.rand_index())\n",
    "print(\"adjusted_rand_index:\",val_ext. adjusted_rand_index())\n",
    "print(\"adjusted_mutual_information:\",val_ext.adjusted_mutual_information())\n",
    "print(\"normalized_mutual_information:\",val_ext.normalized_mutual_information())\n",
    "print(\"homogeneity_score:\",val_ext.homogeneity_score())\n",
    "print(\"completness_score:\",val_ext.completness_score())\n",
    "print(\"v_measure_score:\",val_ext.v_measure_score())\n",
    "print(\"jaccard_co_eff:\",val_ext.jaccard_co_eff())\n",
    "print(\"hubert_T_index:\",val_ext.hubert_T_index())\n",
    "print(\"kulczynski_index:\",val_ext. kulczynski_index())\n",
    "print(\"mcnemar_index:\",val_ext.mcnemar_index())\n",
    "print(\"phi_index:\",val_ext.phi_index())\n",
    "print(\"rogers_tanimoto_index:\",val_ext. rogers_tanimoto_index())\n",
    "print(\"sokal_sneath_index1:\",val_ext.sokal_sneath_index1())\n",
    "print(\"sokal_sneath_index2:\",val_ext.sokal_sneath_index2())"
   ]
  },
  {
   "cell_type": "markdown",
   "metadata": {},
   "source": [
    "### Hierarchial Clustering and its Evaluation"
   ]
  },
  {
   "cell_type": "code",
   "execution_count": 11,
   "metadata": {},
   "outputs": [
    {
     "name": "stdout",
     "output_type": "stream",
     "text": [
      "Validated input array ...\n",
      "Computing condensed distance matrix ...\n",
      "Initialising Cython Code ...\n",
      "Finsihed executing Cython code\n",
      "labels : [1 1 0 0 1 0 1 1 0 1 0 1 1 1 1 1 1 0 1 0 1 1 1 1 1 1 1 1 1 1 1 0 1 1 1 1 1\n",
      " 1 1 1 1 0 0 1 1 1 1 1 0 1 1 1 1 1 1 1 1 1 1 1 1 1 0 0 1 1 0 1 1 1 1 1 0 1\n",
      " 1 1 1 1 1 0 1 1 1 1 1 1 1 1 1 1 1 1 1 1 0 1 0 1 1 1 1 1 1 1 1 1 1 1 1 1 1\n",
      " 1 1 1 0 1 1 1 1 1 1 1 1 0 0 1 0 1 1 1 1 1 0 1 1 1 1 1 1 1 1 1 1 1 1 1 1 0\n",
      " 0 1 1 0 0 1 0 1 1 1 1 1 1 1 1 1 1 1 1 0 1 1 1 1 1 0 1 1 1 1 1 1 1 1 1 1 0\n",
      " 1 1 0 1 1 1 1 1 1 1 1 1 1 0 0 1 1 1 1 0 1 1 1 0 1 1 1 1 0 1 0 0 0 1 1 1 1\n",
      " 1 0 1 1 1 0 1 1 1 1 1 1 1 1 1 1 1 1 1 1 1 1 1 0 1 1 1 1 1 1 1 1 0 1 1 1 1\n",
      " 1 1 1 0 1 1 1 1 1 1 1 1 1 1 1 1 1 1 1 1 1 1 1 1 0 1 0 1 1 0 0 1 0 1 1 1 1\n",
      " 1 1 0 1 1 1 1 1 0 1 1 1 1 1 1 1 1 1 1 1 1 0 1 1 1 1 0 1 1 1 1 1 0 1 1 1 1\n",
      " 1 1 1 0 1 1 1 1 1 1 1 1 1 1 1 1 1 1 1 1 1 0 1 1 1 1 1 0 0 1 1 1 1 1 0 1 0\n",
      " 1 1 0 1 0 1 1 0 1 1 1 1 1 1 1 1 1 0 0 1 0 1 1 1 1 1 1 1 1 1 1 1 1 1 1 0 1\n",
      " 1 1 1 1 1 0 1 1 1 1 0 1 1 1 0 1 1 1 1 1 1 1 0 1 1 1 1 1 1 1 1 0 1 1 0 1 1\n",
      " 1 1 1 0 1 0 1 1 1 1 1 1 1 0 1 0 0 0 1 1 1 0 1 1 1 1 1 1 1 1 1 1 1 1 1 1 1\n",
      " 1 1 1 1 1 0 1 1 0 1 1 1 1 1 0 1 1 1 1 1 1 1 1 1 1 1 1 0 1 0 1 1 1 1 1 1 0\n",
      " 1 0 1 1 1 1 1 1 1 1 1 1 1 1 1 1 1 1 1 1 0 1 1 1 1 1 0 1 1 1 1 1 1 1 1 0 1\n",
      " 1 1 1 1 1 1 1 1 1 1 1 1 1 1 1 1 1 0 1 0 1 1 0 0 1 1 1 1 1 1 1 1 0 1 1 0 1\n",
      " 1 1 1 1 1 1 1 1 1 1 1 1 1 0 1 1 1 1 1 1 1 1 1 1 1 1 1 0 1 1 0 1 1 1 1 1 1\n",
      " 1 0 1 1 1 1 1 1 1 1 0 1 1 1 1 1 1 1 1 1 1 0 1 1 1 1 1 1 1 1 1 1 1 1 1 1 1\n",
      " 1 1 1 1 1 1 1 1 1 1 1 1 1 0 1 1 1 1 1 1 1 1 1 1 0 1 1 0 1 1 1 0 1 1 1 1 1\n",
      " 1 1 1 1 1 1 1 1 0 1 1 0 0 0 1 1 0 1 1 1 0 1 1 1 1 1 1 0 1 1 1 1 1 1 1 1 1\n",
      " 1 1 0 1 1 1 0 0 1 1 1 1 0 1 0 1 1 1 1 1 1 1 0 1 1 1 0 1 1 1 1 1 1 1 1 1 1\n",
      " 0 1 0 1 1 1 0 1 1 1 0 1 1 1 1 0 1 1 1 1 1 1 1 1 1 1 1 0 1 1 1 1 1 1 0 0 1\n",
      " 1 1 1 1 1 1 1 1 1 1 1 1 1 1 0 1 1 1 1 1 1 1 0 1 1 1 1 0 1 1 1 0 1 1 1 1 1\n",
      " 1 1 1 0 1 0 1 0 1 1 1 1 1 0 1 1 1 1 1 0 1 1 1 1 0 1 1 1 1 1 0 1 0 0 1 1 1\n",
      " 1 1 1 1 1 1 1 1 1 1 0 1 1 1 1 1 1 0 1 1 1 1 1 1 1 1 0 1 1 1 1 1 1 1 1 1 1\n",
      " 1 1 1 1 0 1 1 1 1 1 1 1 1 1 1 1 1 1 1 0 1 1 1 1 1 0 1 1 1 1 1 1 1 1 1 1 1\n",
      " 1 0 0 1 1 1 0 1 1 0 1 1 1 0 1 1 1 1 1 1 1 1 0 1 1 1 1 0 0 1 1 1 1 1 1 1 1\n",
      " 1]\n",
      "parameters : {'pooling_func': <function mean at 0x7fdbe8125ae8>, 'connectivity': None, 'n_clusters': 2, 'affinity': 'euclidean', 'compute_full_tree': 'auto', 'linkage': 'ward', 'memory': Memory(cachedir=None)}\n",
      "n_clusters : 2\n",
      "clusters : {0: 156, 1: 844}\n"
     ]
    }
   ],
   "source": [
    "cluster_data.perform_hierarchial(no_clusters=2)"
   ]
  },
  {
   "cell_type": "code",
   "execution_count": 13,
   "metadata": {},
   "outputs": [
    {
     "name": "stdout",
     "output_type": "stream",
     "text": [
      "Internal Indices\n",
      "\n",
      "ball-hall index :  12353.3494317\n",
      "Banfeld-Raftery index :  8702.47543636\n",
      "Det Ratio Index :  2.52049435541\n",
      "Ksq-detw Index  : 1.04683849773e+37\n",
      "Log-det Ratio Index :  924.4550550657779\n",
      "Log SS Ratio Index :  -0.031447694086663945\n",
      "Scott-Symons Index :  23880.6656822\n",
      "Trace WiB Index :  1.52049435541\n",
      "Sillhoutte Index :  0.59076702371\n",
      "Calinski-Harabasz index :  967.103558453\n",
      "C-index :  0.130583178907\n",
      "Dunn Index :  0.011646983450982303\n",
      "Davies Bouldin Index :  0.709335120691\n",
      "Ray-Turi Index :  0.135870322109\n",
      "Hartigan Index :  -732.294044731\n",
      "PBM Index :  22235.6448845\n",
      "Score Function :  0.0\n"
     ]
    }
   ],
   "source": [
    "#measure internal metrics for kmeans clustering\n",
    "val_int = intval.internal_indices(cluster_data.data,cluster_data.hierarchial_results['labels'])\n",
    "\n",
    "print(\"Internal Indices\\n\")\n",
    "\n",
    "print(\"ball-hall index : \",val_int.ball_hall_index())\n",
    "print(\"Banfeld-Raftery index : \",val_int.banfeld_raftery_index())\n",
    "print(\"Det Ratio Index : \",val_int.det_ratio_index())\n",
    "print(\"Ksq-detw Index  :\",val_int.ksq_detw_index())\n",
    "print(\"Log-det Ratio Index : \",val_int.log_det_ratio_index())\n",
    "print(\"Log SS Ratio Index : \",val_int.log_ss_ratio_index())\n",
    "print(\"Scott-Symons Index : \",val_int.scott_symons_index())\n",
    "print(\"Trace WiB Index : \",val_int.trace_wib_index())\n",
    "print(\"Sillhoutte Index : \",val_int.silhouette_score())\n",
    "print(\"Calinski-Harabasz index : \",val_int.calinski_harabaz_score())\n",
    "print(\"C-index : \",val_int.c_index())\n",
    "print(\"Dunn Index : \",val_int.dunn_index())\n",
    "print(\"Davies Bouldin Index : \",val_int.davies_bouldin_index())\n",
    "print(\"Ray-Turi Index : \",val_int.ray_turi_index())\n",
    "print(\"Hartigan Index : \",val_int.hartigan_index())\n",
    "print(\"PBM Index : \",val_int.pbm_index())\n",
    "print(\"Score Function : \",val_int.score_function())"
   ]
  },
  {
   "cell_type": "code",
   "execution_count": 14,
   "metadata": {},
   "outputs": [
    {
     "name": "stdout",
     "output_type": "stream",
     "text": [
      "External Indices\n",
      "\n",
      "entropy: 0.425072807168\n",
      "precision_coefficient: 0.8132917930816994\n",
      "recall_coefficient: 0.719192045465473\n",
      "f_measure: 0.7633528961469763\n",
      "weighted_f_measure: 0.7633528961469763\n",
      "purity: 0.908\n",
      "folkes_mallows_index: 0.764796043548\n",
      "rand_index: 0.6286606606606606\n",
      "adjusted_rand_index: -0.0836800177107\n",
      "adjusted_mutual_information: 0.0277392958882\n",
      "normalized_mutual_information: 0.034285196186\n",
      "homogeneity_score: 0.0407071118962\n",
      "completness_score: 0.0288763958619\n",
      "v_measure_score: 0.0337860138238\n",
      "jaccard_co_eff: 0.617276257526174\n",
      "hubert_T_index: -0.08719815561601714\n",
      "kulczynski_index: 0.7662419192735862\n",
      "mcnemar_index: -186.21165306092638\n",
      "phi_index: -2.1256019999628004e-12\n",
      "rogers_tanimoto_index: 0.45842822606075473\n",
      "sokal_sneath_index1: 0.44642052390147524\n",
      "sokal_sneath_index2: 0.771997108846046\n"
     ]
    }
   ],
   "source": [
    "#measure external metrics for kmeans clustering\n",
    "import SRC.external_indices as extval\n",
    "val_ext = extval.external_indices(cluster_data.class_labels,cluster_data.hierarchial_results['labels'])\n",
    "\n",
    "print(\"External Indices\\n\")\n",
    "print(\"entropy:\",val_ext.entropy())\n",
    "print(\"precision_coefficient:\",val_ext.precision_coefficient())\n",
    "print(\"recall_coefficient:\",val_ext.recall_coefficient())\n",
    "print(\"f_measure:\",val_ext.f_measure())\n",
    "print(\"weighted_f_measure:\",val_ext.weighted_f_measure())\n",
    "print(\"purity:\",val_ext.purity())\n",
    "print(\"folkes_mallows_index:\",val_ext.folkes_mallows_index())\n",
    "print(\"rand_index:\",val_ext.rand_index())\n",
    "print(\"adjusted_rand_index:\",val_ext. adjusted_rand_index())\n",
    "print(\"adjusted_mutual_information:\",val_ext.adjusted_mutual_information())\n",
    "print(\"normalized_mutual_information:\",val_ext.normalized_mutual_information())\n",
    "print(\"homogeneity_score:\",val_ext.homogeneity_score())\n",
    "print(\"completness_score:\",val_ext.completness_score())\n",
    "print(\"v_measure_score:\",val_ext.v_measure_score())\n",
    "print(\"jaccard_co_eff:\",val_ext.jaccard_co_eff())\n",
    "print(\"hubert_T_index:\",val_ext.hubert_T_index())\n",
    "print(\"kulczynski_index:\",val_ext. kulczynski_index())\n",
    "print(\"mcnemar_index:\",val_ext.mcnemar_index())\n",
    "print(\"phi_index:\",val_ext.phi_index())\n",
    "print(\"rogers_tanimoto_index:\",val_ext. rogers_tanimoto_index())\n",
    "print(\"sokal_sneath_index1:\",val_ext.sokal_sneath_index1())\n",
    "print(\"sokal_sneath_index2:\",val_ext.sokal_sneath_index2())"
   ]
  },
  {
   "cell_type": "markdown",
   "metadata": {},
   "source": [
    "### Spectral Clustering and Evaluation"
   ]
  },
  {
   "cell_type": "code",
   "execution_count": null,
   "metadata": {
    "collapsed": true
   },
   "outputs": [],
   "source": []
  }
 ],
 "metadata": {
  "kernelspec": {
   "display_name": "Python 3",
   "language": "python",
   "name": "python3"
  },
  "language_info": {
   "codemirror_mode": {
    "name": "ipython",
    "version": 3
   },
   "file_extension": ".py",
   "mimetype": "text/x-python",
   "name": "python",
   "nbconvert_exporter": "python",
   "pygments_lexer": "ipython3",
   "version": "3.5.2"
  }
 },
 "nbformat": 4,
 "nbformat_minor": 2
}
