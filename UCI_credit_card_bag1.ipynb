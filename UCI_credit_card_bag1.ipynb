{
 "cells": [
  {
   "cell_type": "markdown",
   "metadata": {},
   "source": [
    "# UCI_CREDIT_CARD DATASET EXPERIMENT "
   ]
  },
  {
   "cell_type": "markdown",
   "metadata": {},
   "source": [
    "## 1.Loading Data"
   ]
  },
  {
   "cell_type": "code",
   "execution_count": 22,
   "metadata": {
    "collapsed": true
   },
   "outputs": [],
   "source": [
    "import SRC.EDA as EDA"
   ]
  },
  {
   "cell_type": "code",
   "execution_count": 23,
   "metadata": {
    "collapsed": true
   },
   "outputs": [],
   "source": [
    "main= EDA.EDA(force_file=False)"
   ]
  },
  {
   "cell_type": "markdown",
   "metadata": {},
   "source": [
    "##  Feature names "
   ]
  },
  {
   "cell_type": "code",
   "execution_count": 24,
   "metadata": {},
   "outputs": [
    {
     "name": "stdout",
     "output_type": "stream",
     "text": [
      "ID LIMIT_BAL SEX EDUCATION MARRIAGE AGE PAY_0 PAY_2 PAY_3 PAY_4 PAY_5 PAY_6 BILL_AMT1 BILL_AMT2 BILL_AMT3 BILL_AMT4 BILL_AMT5 BILL_AMT6 PAY_AMT1 PAY_AMT2 PAY_AMT3 PAY_AMT4 PAY_AMT5 PAY_AMT6\n"
     ]
    }
   ],
   "source": [
    "main.read_data(\"SAMPLES/Classification/UCI_Credit_Card.csv\",header=None,label_cols=-1,normalize_labels=True)\n",
    "print(*main.data[0])"
   ]
  },
  {
   "cell_type": "code",
   "execution_count": 25,
   "metadata": {},
   "outputs": [],
   "source": [
    "main.read_data(\"SAMPLES/Classification/UCI_Credit_Card.csv\",header=0,label_cols=-1,normalize_labels=True)"
   ]
  },
  {
   "cell_type": "code",
   "execution_count": 26,
   "metadata": {},
   "outputs": [
    {
     "data": {
      "text/plain": [
       "(30000, 24)"
      ]
     },
     "execution_count": 26,
     "metadata": {},
     "output_type": "execute_result"
    }
   ],
   "source": [
    "main.data.shape"
   ]
  },
  {
   "cell_type": "markdown",
   "metadata": {},
   "source": [
    "## dropping id coloumn"
   ]
  },
  {
   "cell_type": "code",
   "execution_count": 27,
   "metadata": {},
   "outputs": [],
   "source": [
    "#print(*main.data[0])\n",
    "main.data = main.data.T[1:].T\n",
    "#print(*main.data[0])\n"
   ]
  },
  {
   "cell_type": "code",
   "execution_count": 28,
   "metadata": {},
   "outputs": [
    {
     "data": {
      "text/plain": [
       "(30000, 23)"
      ]
     },
     "execution_count": 28,
     "metadata": {},
     "output_type": "execute_result"
    }
   ],
   "source": [
    "main.data.shape"
   ]
  },
  {
   "cell_type": "code",
   "execution_count": 29,
   "metadata": {},
   "outputs": [
    {
     "data": {
      "text/plain": [
       "array([[  2.00000000e+04,   2.00000000e+00,   2.00000000e+00, ...,\n",
       "          0.00000000e+00,   0.00000000e+00,   0.00000000e+00],\n",
       "       [  1.20000000e+05,   2.00000000e+00,   2.00000000e+00, ...,\n",
       "          1.00000000e+03,   0.00000000e+00,   2.00000000e+03],\n",
       "       [  9.00000000e+04,   2.00000000e+00,   2.00000000e+00, ...,\n",
       "          1.00000000e+03,   1.00000000e+03,   5.00000000e+03],\n",
       "       ..., \n",
       "       [  3.00000000e+04,   1.00000000e+00,   2.00000000e+00, ...,\n",
       "          4.20000000e+03,   2.00000000e+03,   3.10000000e+03],\n",
       "       [  8.00000000e+04,   1.00000000e+00,   3.00000000e+00, ...,\n",
       "          1.92600000e+03,   5.29640000e+04,   1.80400000e+03],\n",
       "       [  5.00000000e+04,   1.00000000e+00,   2.00000000e+00, ...,\n",
       "          1.00000000e+03,   1.00000000e+03,   1.00000000e+03]])"
      ]
     },
     "execution_count": 29,
     "metadata": {},
     "output_type": "execute_result"
    }
   ],
   "source": [
    "main.data"
   ]
  },
  {
   "cell_type": "code",
   "execution_count": 30,
   "metadata": {
    "scrolled": true
   },
   "outputs": [
    {
     "data": {
      "text/plain": [
       "array([1, 1, 0, ..., 1, 1, 1], dtype=int64)"
      ]
     },
     "execution_count": 30,
     "metadata": {},
     "output_type": "execute_result"
    }
   ],
   "source": [
    "main.class_labels"
   ]
  },
  {
   "cell_type": "markdown",
   "metadata": {},
   "source": [
    "## Normalizing catogarical Data"
   ]
  },
  {
   "cell_type": "code",
   "execution_count": 31,
   "metadata": {
    "collapsed": true
   },
   "outputs": [],
   "source": [
    "main.dummy_coding(columns=[1,2,3,5,6,7,8,9,10])"
   ]
  },
  {
   "cell_type": "code",
   "execution_count": 32,
   "metadata": {},
   "outputs": [
    {
     "data": {
      "text/plain": [
       "(30000, 91)"
      ]
     },
     "execution_count": 32,
     "metadata": {},
     "output_type": "execute_result"
    }
   ],
   "source": [
    "main.data.shape"
   ]
  },
  {
   "cell_type": "markdown",
   "metadata": {},
   "source": [
    "## 1.1 Sampling the data into Bags of Equal Size(Random sampling with replacements)"
   ]
  },
  {
   "cell_type": "code",
   "execution_count": 33,
   "metadata": {},
   "outputs": [],
   "source": [
    "main.repeated_sampling(filename=\"UCI_credit_card_bags\",n_iterations=10,size=2000)"
   ]
  },
  {
   "cell_type": "code",
   "execution_count": 34,
   "metadata": {},
   "outputs": [
    {
     "data": {
      "text/plain": [
       "{'data': array([[  8.00000000e+04,   4.60000000e+01,   3.91150000e+04, ...,\n",
       "           0.00000000e+00,   0.00000000e+00,   0.00000000e+00],\n",
       "        [  4.70000000e+05,   4.70000000e+01,   4.47057000e+05, ...,\n",
       "           0.00000000e+00,   0.00000000e+00,   0.00000000e+00],\n",
       "        [  3.00000000e+04,   2.90000000e+01,   3.36660000e+04, ...,\n",
       "           0.00000000e+00,   0.00000000e+00,   0.00000000e+00],\n",
       "        ..., \n",
       "        [  1.30000000e+05,   3.90000000e+01,   6.65480000e+04, ...,\n",
       "           0.00000000e+00,   0.00000000e+00,   0.00000000e+00],\n",
       "        [  2.60000000e+05,   3.50000000e+01,  -1.50000000e+01, ...,\n",
       "           0.00000000e+00,   0.00000000e+00,   0.00000000e+00],\n",
       "        [  2.00000000e+04,   3.40000000e+01,   1.71790000e+04, ...,\n",
       "           0.00000000e+00,   0.00000000e+00,   0.00000000e+00]]),\n",
       " 'target': array([0, 0, 1, ..., 1, 0, 1], dtype=int64)}"
      ]
     },
     "execution_count": 34,
     "metadata": {},
     "output_type": "execute_result"
    }
   ],
   "source": [
    "import pickle \n",
    "X=pickle.load(open(\"DATASETS/UCI_credit_card_bags1.p\",\"rb\"))\n",
    "X"
   ]
  },
  {
   "cell_type": "markdown",
   "metadata": {},
   "source": [
    "## 1.2 Picking Bag 1 "
   ]
  },
  {
   "cell_type": "code",
   "execution_count": 35,
   "metadata": {},
   "outputs": [],
   "source": [
    "del main\n",
    "main = EDA.EDA(False)\n",
    "main.load_data(X[\"data\"],X[\"target\"])"
   ]
  },
  {
   "cell_type": "code",
   "execution_count": 36,
   "metadata": {},
   "outputs": [
    {
     "data": {
      "text/plain": [
       "(2000,)"
      ]
     },
     "execution_count": 36,
     "metadata": {},
     "output_type": "execute_result"
    }
   ],
   "source": [
    "main.class_labels.shape"
   ]
  },
  {
   "cell_type": "markdown",
   "metadata": {},
   "source": [
    "## 2 Clustering "
   ]
  },
  {
   "cell_type": "markdown",
   "metadata": {},
   "source": [
    "### dependencies for Indices"
   ]
  },
  {
   "cell_type": "code",
   "execution_count": 39,
   "metadata": {
    "collapsed": true
   },
   "outputs": [],
   "source": [
    "import SRC.internal_indices as intval\n",
    "import SRC.external_indices as extval"
   ]
  },
  {
   "cell_type": "markdown",
   "metadata": {},
   "source": [
    "## 2.1 Kmeans "
   ]
  },
  {
   "cell_type": "code",
   "execution_count": 40,
   "metadata": {},
   "outputs": [
    {
     "name": "stdout",
     "output_type": "stream",
     "text": [
      "parameters : {'algorithm': 'auto', 'copy_x': True, 'init': 'k-means++', 'max_iter': 300, 'n_clusters': 2, 'n_init': 10, 'n_jobs': -1, 'precompute_distances': 'auto', 'random_state': None, 'tol': 0.0001, 'verbose': 0}\n",
      "labels : [0 1 0 ..., 0 0 0]\n",
      "n_clusters : 2\n",
      "clusters : {0: 1749, 1: 251}\n",
      "cluster_centers : [[  1.53344768e+05   3.52624357e+01   3.01917158e+04   2.82047656e+04\n",
      "    2.59190172e+04   2.42250417e+04   2.25901664e+04   2.16710703e+04\n",
      "    4.43610120e+03   4.58647856e+03   4.55860435e+03   3.93716924e+03\n",
      "    3.73393939e+03   4.34756432e+03   4.02515723e-01   5.97484277e-01\n",
      "    0.00000000e+00   3.40766152e-01   4.81417953e-01   1.62378502e-01\n",
      "    4.57404231e-03   9.71983991e-03   1.14351058e-03   1.71526587e-03\n",
      "    4.34534019e-01   5.47741567e-01   1.60091481e-02   1.00628931e-01\n",
      "    2.16123499e-01   4.48256146e-01   1.30931961e-01   8.86220698e-02\n",
      "    1.37221269e-02   5.71755289e-04   0.00000000e+00   5.71755289e-04\n",
      "    5.71755289e-04   0.00000000e+00   1.47512864e-01   2.18410520e-01\n",
      "    4.88279017e-01   1.14351058e-03   1.29788451e-01   8.00457404e-03\n",
      "    4.57404231e-03   1.71526587e-03   5.71755289e-04   0.00000000e+00\n",
      "    0.00000000e+00   1.61806747e-01   2.16695254e-01   4.72269868e-01\n",
      "    0.00000000e+00   1.35506003e-01   6.86106346e-03   3.43053173e-03\n",
      "    5.71755289e-04   0.00000000e+00   2.28702115e-03   5.71755289e-04\n",
      "    1.75528874e-01   2.13836478e-01   4.89422527e-01   0.00000000e+00\n",
      "    1.06918239e-01   5.14579760e-03   3.43053173e-03   5.71755289e-04\n",
      "    0.00000000e+00   4.00228702e-03   1.14351058e-03   1.81246427e-01\n",
      "    2.11549457e-01   5.04288165e-01   8.91938250e-02   6.86106346e-03\n",
      "    1.14351058e-03   5.71755289e-04   0.00000000e+00   4.57404231e-03\n",
      "    5.71755289e-04   1.96112064e-01   2.13836478e-01   4.80274443e-01\n",
      "    9.77701544e-02   4.57404231e-03   2.28702115e-03   0.00000000e+00\n",
      "    1.14351058e-03   3.43053173e-03   5.71755289e-04]\n",
      " [  2.82948207e+05   3.70996016e+01   2.04477928e+05   2.00406203e+05\n",
      "    1.93739008e+05   1.82196414e+05   1.69325781e+05   1.65203422e+05\n",
      "    1.65967968e+04   1.24447729e+04   1.15340837e+04   1.34554741e+04\n",
      "    1.33838287e+04   1.12321833e+04   4.14342629e-01   5.85657371e-01\n",
      "    0.00000000e+00   2.82868526e-01   5.61752988e-01   1.39442231e-01\n",
      "    3.98406375e-03   7.96812749e-03   3.98406375e-03  -1.08420217e-18\n",
      "    5.49800797e-01   4.42231076e-01   7.96812749e-03   3.98406375e-03\n",
      "    2.78884462e-02   8.12749004e-01   4.78087649e-02   8.76494024e-02\n",
      "    1.99203187e-02  -3.25260652e-19   0.00000000e+00  -3.25260652e-19\n",
      "   -3.25260652e-19   0.00000000e+00   3.98406375e-03   1.59362550e-02\n",
      "    8.52589641e-01  -6.50521303e-19   1.15537849e-01   7.96812749e-03\n",
      "   -2.60208521e-18   3.98406375e-03  -3.25260652e-19   0.00000000e+00\n",
      "    0.00000000e+00   7.96812749e-03   1.59362550e-02   8.56573705e-01\n",
      "    0.00000000e+00   1.03585657e-01   1.19521912e-02   3.98406375e-03\n",
      "   -3.25260652e-19   0.00000000e+00  -1.30104261e-18  -3.25260652e-19\n",
      "    1.19521912e-02   1.19521912e-02   8.68525896e-01   0.00000000e+00\n",
      "    1.03585657e-01   3.98406375e-03  -2.16840434e-18  -3.25260652e-19\n",
      "    0.00000000e+00   2.12503626e-17  -6.50521303e-19   7.96812749e-03\n",
      "    1.59362550e-02   8.80478088e-01   9.16334661e-02   3.98406375e-03\n",
      "   -6.50521303e-19  -3.25260652e-19   0.00000000e+00  -2.60208521e-18\n",
      "   -3.25260652e-19   3.98406375e-03   1.99203187e-02   8.68525896e-01\n",
      "    1.03585657e-01   3.98406375e-03  -1.30104261e-18   0.00000000e+00\n",
      "   -6.50521303e-19  -2.16840434e-18  -3.25260652e-19]]\n",
      "inertia : 5.53623626392e+13\n"
     ]
    }
   ],
   "source": [
    "main.perform_kmeans(no_clusters=2)"
   ]
  },
  {
   "cell_type": "markdown",
   "metadata": {},
   "source": [
    "## 2.1.1  Cluster indices over Kmeans  result "
   ]
  },
  {
   "cell_type": "markdown",
   "metadata": {},
   "source": [
    "## 2.1.2 External Indices for Kmeans result "
   ]
  },
  {
   "cell_type": "code",
   "execution_count": 41,
   "metadata": {},
   "outputs": [
    {
     "name": "stdout",
     "output_type": "stream",
     "text": [
      "\n",
      "\n",
      "External Indices\n",
      "\n",
      "entropy: 0.759994185044\n",
      "precision_coefficient: 0.6543335549143878\n",
      "recall_coefficient: 0.7776634161206765\n",
      "f_measure: 0.7106876311746742\n",
      "weighted_f_measure: 0.7106876311746742\n",
      "purity: 0.78\n",
      "folkes_mallows_index: 0.713338115901\n",
      "rand_index: 0.5842526263131566\n",
      "adjusted_rand_index: -0.0086897503457\n",
      "adjusted_mutual_information: -0.000248151599687\n",
      "normalized_mutual_information: 0.00026927988956\n",
      "homogeneity_score: 0.000227999641105\n",
      "completness_score: 0.000318034092378\n",
      "v_measure_score: 0.000265594063058\n",
      "jaccard_co_eff: 0.5512144677725938\n",
      "gamma_statistics: -0.009110154816984612\n",
      "kulczynski_index: 0.7159984855175321\n",
      "mcnemar_index: -473.2450195034793\n",
      "phi_index: -1.1597829400389057e-14\n",
      "rogers_tanimoto_index: 0.4126814127803499\n",
      "sokal_sneath_index1: 0.38046657390700206\n"
     ]
    }
   ],
   "source": [
    "val_ext=extval.external_indices(main.class_labels,main.kmeans_results['labels'])\n",
    "print(\"\\n\\nExternal Indices\",end='\\n\\n')\n",
    "print(\"entropy:\",val_ext.entropy())\n",
    "print(\"precision_coefficient:\",val_ext.precision_coefficient())\n",
    "print(\"recall_coefficient:\",val_ext.recall_coefficient())\n",
    "print(\"f_measure:\",val_ext.f_measure())\n",
    "print(\"weighted_f_measure:\",val_ext.weighted_f_measure())\n",
    "print(\"purity:\",val_ext.purity())\n",
    "print(\"folkes_mallows_index:\",val_ext.folkes_mallows_index())\n",
    "print(\"rand_index:\",val_ext.rand_index())\n",
    "print(\"adjusted_rand_index:\",val_ext. adjusted_rand_index())\n",
    "print(\"adjusted_mutual_information:\",val_ext.adjusted_mutual_information())\n",
    "print(\"normalized_mutual_information:\",val_ext.normalized_mutual_information())\n",
    "print(\"homogeneity_score:\",val_ext.homogeneity_score())\n",
    "print(\"completness_score:\",val_ext.completness_score())\n",
    "print(\"v_measure_score:\",val_ext.v_measure_score())\n",
    "print(\"jaccard_co_eff:\",val_ext.jaccard_co_eff())\n",
    "print(\"gamma_statistics:\",val_ext.hubert_T_index())\n",
    "print(\"kulczynski_index:\",val_ext. kulczynski_index())\n",
    "print(\"mcnemar_index:\",val_ext.mcnemar_index())\n",
    "print(\"phi_index:\",val_ext.phi_index())\n",
    "print(\"rogers_tanimoto_index:\",val_ext. rogers_tanimoto_index())\n",
    "print(\"sokal_sneath_index1:\",val_ext.sokal_sneath_index1())"
   ]
  },
  {
   "cell_type": "markdown",
   "metadata": {},
   "source": [
    "## 2.1.3 Internal Indices for Kmeans result "
   ]
  },
  {
   "cell_type": "code",
   "execution_count": 43,
   "metadata": {},
   "outputs": [
    {
     "name": "stdout",
     "output_type": "stream",
     "text": [
      "Internal Indices\n",
      "\n",
      "ball-hall index :  44790636120.5\n",
      "Banfeld-Raftery index :  47906.3326495\n",
      "Det Ratio Index :  nan\n",
      "Ksq-detw Index  : 0.0\n",
      "Log-det Ratio Index :  nan\n",
      "Log SS Ratio Index :  -0.37952055752891534\n",
      "Sillhoutte Index :  0.561765065541\n",
      "Calinski-Harabasz index : "
     ]
    },
    {
     "name": "stderr",
     "output_type": "stream",
     "text": [
      "C:\\Users\\ntnsh_000\\Documents\\GitHub\\Clustering-and-validation\\SRC\\internal_indices.py:160: RuntimeWarning: invalid value encountered in double_scalars\n",
      "  return self.det_T/self.det_WG\n",
      "C:\\Users\\ntnsh_000\\Documents\\GitHub\\Clustering-and-validation\\SRC\\internal_indices.py:166: RuntimeWarning: invalid value encountered in double_scalars\n",
      "  return self.n_samples * log(self.det_T/self.det_WG)\n"
     ]
    },
    {
     "name": "stdout",
     "output_type": "stream",
     "text": [
      " 1367.01034133\n",
      "C-index :  0.103170926216\n",
      "Dunn Index :  0.007807594484365303\n",
      "Davies Bouldin Index :  0.841604752068\n",
      "Ray-Turi Index :  0.16040844306\n",
      "Hartigan Index :  -1339.33931792\n",
      "PBM Index :  66074610955.3\n"
     ]
    }
   ],
   "source": [
    "val_int=intval.internal_indices(main.data,main.kmeans_results['labels'])\n",
    "\n",
    "print(\"Internal Indices\",end=\"\\n\\n\")\n",
    "print(\"ball-hall index : \",val_int.ball_hall_index())\n",
    "print(\"Banfeld-Raftery index : \",val_int.banfeld_raftery_index())\n",
    "print(\"Det Ratio Index : \",val_int.det_ratio_index())\n",
    "print(\"Ksq-detw Index  :\",val_int.ksq_detw_index())\n",
    "print(\"Log-det Ratio Index : \",val_int.log_det_ratio_index())\n",
    "print(\"Log SS Ratio Index : \",val_int.log_ss_ratio_index())\n",
    "#print(\"Scott-Symons Index : \",val_int.scott_symons_index())(not working for this given dataset)\n",
    "#print(\"Trace WiB Index : \",val_int.trace_wib_index())(not working for this given dataset)\n",
    "print(\"Sillhoutte Index : \",val_int.silhouette_score())\n",
    "print(\"Calinski-Harabasz index : \",val_int.calinski_harabaz_score())\n",
    "print(\"C-index : \",val_int.c_index())\n",
    "print(\"Dunn Index : \",val_int.dunn_index())\n",
    "print(\"Davies Bouldin Index : \",val_int.davies_bouldin_index())\n",
    "print(\"Ray-Turi Index : \",val_int.ray_turi_index())\n",
    "print(\"Hartigan Index : \",val_int.hartigan_index())\n",
    "print(\"PBM Index : \",val_int.pbm_index())"
   ]
  },
  {
   "cell_type": "markdown",
   "metadata": {},
   "source": [
    "## 2.2 HDBSCAN"
   ]
  },
  {
   "cell_type": "code",
   "execution_count": 44,
   "metadata": {},
   "outputs": [
    {
     "name": "stdout",
     "output_type": "stream",
     "text": [
      "parameters : {'algorithm': 'best', 'allow_single_cluster': False, 'alpha': 1.0, 'approx_min_span_tree': True, 'cluster_selection_method': 'eom', 'core_dist_n_jobs': 4, 'gen_min_span_tree': False, 'leaf_size': 40, 'match_reference_implementation': False, 'memory': Memory(cachedir=None), 'metric': 'euclidean', 'min_cluster_size': 15, 'min_samples': None, 'p': None, 'prediction_data': False}\n",
      "labels : [ 0 -1  0 ...,  0  0  0]\n",
      "probabilities : [ 0.78003204  0.          1.         ...,  0.60492263  0.8306042   1.        ]\n",
      "n_clusters : 2\n",
      "clusters : {-1: 774, 0: 1208, 1: 18}\n"
     ]
    }
   ],
   "source": [
    "main.perform_hdbscan()"
   ]
  },
  {
   "cell_type": "markdown",
   "metadata": {},
   "source": [
    "## 2.2.1  Cluster indices over HDBSCAN  result "
   ]
  },
  {
   "cell_type": "markdown",
   "metadata": {},
   "source": [
    "## 2.2.2 External Indices for HDBSCAN result "
   ]
  },
  {
   "cell_type": "code",
   "execution_count": 45,
   "metadata": {},
   "outputs": [
    {
     "name": "stdout",
     "output_type": "stream",
     "text": [
      "\n",
      "\n",
      "External Indices\n",
      "\n",
      "entropy: 0.503583639838\n",
      "precision_coefficient: 0.6480105646814452\n",
      "recall_coefficient: 0.5076717964345574\n",
      "f_measure: 0.5693202536425663\n",
      "weighted_f_measure: 0.5693202536425663\n",
      "purity: 0.78\n",
      "folkes_mallows_index: 0.57356489387\n",
      "rand_index: 0.4956518259129565\n",
      "adjusted_rand_index: -0.0178943810391\n",
      "adjusted_mutual_information: 0.0110401355305\n",
      "normalized_mutual_information: 0.013685998564\n",
      "homogeneity_score: 0.0159350270465\n",
      "completness_score: 0.0117543921418\n",
      "v_measure_score: 0.0135291069431\n",
      "jaccard_co_eff: 0.3979368933488279\n",
      "gamma_statistics: -0.018680269626597815\n",
      "kulczynski_index: 0.5778411805580013\n",
      "mcnemar_index: -45.29189479659395\n",
      "phi_index: -1.969818770519771e-14\n",
      "rogers_tanimoto_index: 0.32947946123825816\n",
      "sokal_sneath_index1: 0.24839027357707788\n"
     ]
    }
   ],
   "source": [
    "val_ext=extval.external_indices(main.class_labels,main.hdbscan_results['labels'])\n",
    "print(\"\\n\\nExternal Indices\",end='\\n\\n')\n",
    "print(\"entropy:\",val_ext.entropy())\n",
    "print(\"precision_coefficient:\",val_ext.precision_coefficient())\n",
    "print(\"recall_coefficient:\",val_ext.recall_coefficient())\n",
    "print(\"f_measure:\",val_ext.f_measure())\n",
    "print(\"weighted_f_measure:\",val_ext.weighted_f_measure())\n",
    "print(\"purity:\",val_ext.purity())\n",
    "print(\"folkes_mallows_index:\",val_ext.folkes_mallows_index())\n",
    "print(\"rand_index:\",val_ext.rand_index())\n",
    "print(\"adjusted_rand_index:\",val_ext. adjusted_rand_index())\n",
    "print(\"adjusted_mutual_information:\",val_ext.adjusted_mutual_information())\n",
    "print(\"normalized_mutual_information:\",val_ext.normalized_mutual_information())\n",
    "print(\"homogeneity_score:\",val_ext.homogeneity_score())\n",
    "print(\"completness_score:\",val_ext.completness_score())\n",
    "print(\"v_measure_score:\",val_ext.v_measure_score())\n",
    "print(\"jaccard_co_eff:\",val_ext.jaccard_co_eff())\n",
    "print(\"gamma_statistics:\",val_ext.hubert_T_index())\n",
    "print(\"kulczynski_index:\",val_ext. kulczynski_index())\n",
    "print(\"mcnemar_index:\",val_ext.mcnemar_index())\n",
    "print(\"phi_index:\",val_ext.phi_index())\n",
    "print(\"rogers_tanimoto_index:\",val_ext. rogers_tanimoto_index())\n",
    "print(\"sokal_sneath_index1:\",val_ext.sokal_sneath_index1())"
   ]
  },
  {
   "cell_type": "markdown",
   "metadata": {},
   "source": [
    "## 2.2.3 Internal Indices for HDBSCAN result "
   ]
  },
  {
   "cell_type": "code",
   "execution_count": 47,
   "metadata": {},
   "outputs": [
    {
     "name": "stdout",
     "output_type": "stream",
     "text": [
      "Internal Indices\n",
      "\n",
      "ball-hall index :  28097688610.7\n",
      "Banfeld-Raftery index :  47999.6860278\n",
      "Det Ratio Index :  nan\n",
      "Ksq-detw Index  : 0.0\n",
      "Log-det Ratio Index :  nan\n",
      "Log SS Ratio Index :  -1.177145452140501\n",
      "Sillhoutte Index :  0.160597489664\n",
      "Calinski-Harabasz index : "
     ]
    },
    {
     "name": "stderr",
     "output_type": "stream",
     "text": [
      "C:\\Users\\ntnsh_000\\Documents\\GitHub\\Clustering-and-validation\\SRC\\internal_indices.py:160: RuntimeWarning: invalid value encountered in double_scalars\n",
      "  return self.det_T/self.det_WG\n",
      "C:\\Users\\ntnsh_000\\Documents\\GitHub\\Clustering-and-validation\\SRC\\internal_indices.py:166: RuntimeWarning: invalid value encountered in double_scalars\n",
      "  return self.n_samples * log(self.det_T/self.det_WG)\n"
     ]
    },
    {
     "name": "stdout",
     "output_type": "stream",
     "text": [
      " 307.69489788\n",
      "C-index :  0.299244482975\n",
      "Dunn Index :  0.0033143068041707646\n",
      "Davies Bouldin Index :  1.63549280769\n",
      "Ray-Turi Index :  1.65168058665\n",
      "Hartigan Index :  -1145.80497425\n",
      "PBM Index :  11920902380.8\n"
     ]
    }
   ],
   "source": [
    "val_int=intval.internal_indices(main.data,main.hdbscan_results['labels'])\n",
    "\n",
    "print(\"Internal Indices\",end=\"\\n\\n\")\n",
    "print(\"ball-hall index : \",val_int.ball_hall_index())\n",
    "print(\"Banfeld-Raftery index : \",val_int.banfeld_raftery_index())\n",
    "print(\"Det Ratio Index : \",val_int.det_ratio_index())\n",
    "print(\"Ksq-detw Index  :\",val_int.ksq_detw_index())\n",
    "print(\"Log-det Ratio Index : \",val_int.log_det_ratio_index())\n",
    "print(\"Log SS Ratio Index : \",val_int.log_ss_ratio_index())\n",
    "#print(\"Scott-Symons Index : \",val_int.scott_symons_index())(not working for this given dataset)\n",
    "#print(\"Trace WiB Index : \",val_int.trace_wib_index())(not working for this given dataset)\n",
    "print(\"Sillhoutte Index : \",val_int.silhouette_score())\n",
    "print(\"Calinski-Harabasz index : \",val_int.calinski_harabaz_score())\n",
    "print(\"C-index : \",val_int.c_index())\n",
    "print(\"Dunn Index : \",val_int.dunn_index())\n",
    "print(\"Davies Bouldin Index : \",val_int.davies_bouldin_index())\n",
    "print(\"Ray-Turi Index : \",val_int.ray_turi_index())\n",
    "print(\"Hartigan Index : \",val_int.hartigan_index())\n",
    "print(\"PBM Index : \",val_int.pbm_index())"
   ]
  },
  {
   "cell_type": "markdown",
   "metadata": {},
   "source": [
    "## 2.3 Spectral Clustering (Affinity = nearest neighbors)"
   ]
  },
  {
   "cell_type": "code",
   "execution_count": 48,
   "metadata": {},
   "outputs": [
    {
     "name": "stdout",
     "output_type": "stream",
     "text": [
      "parameters : {'affinity': 'nearest_neighbors', 'assign_labels': 'kmeans', 'coef0': 1, 'degree': 3, 'eigen_solver': None, 'eigen_tol': 0.0, 'gamma': 1.0, 'kernel_params': None, 'n_clusters': 2, 'n_init': 10, 'n_jobs': 1, 'n_neighbors': 10, 'random_state': None}\n",
      "labels : [0 0 1 ..., 0 0 1]\n",
      "n_clusters : 2\n",
      "clusters : {0: 1489, 1: 511}\n"
     ]
    }
   ],
   "source": [
    "main.perform_spectral_clustering(no_clusters=2,affinity=\"nearest_neighbors\")"
   ]
  },
  {
   "cell_type": "markdown",
   "metadata": {},
   "source": [
    "## 2.3.1  Cluster indices over Spectral Clustering  result "
   ]
  },
  {
   "cell_type": "markdown",
   "metadata": {},
   "source": [
    "## 2.3.2 External Indices for Spectral Clustering result "
   ]
  },
  {
   "cell_type": "code",
   "execution_count": 49,
   "metadata": {},
   "outputs": [
    {
     "name": "stdout",
     "output_type": "stream",
     "text": [
      "\n",
      "\n",
      "External Indices\n",
      "\n",
      "entropy: 0.749725071875\n",
      "precision_coefficient: 0.6794529775361212\n",
      "recall_coefficient: 0.6408997409721164\n",
      "f_measure: 0.6596134975169766\n",
      "weighted_f_measure: 0.6596134975169766\n",
      "purity: 0.78\n",
      "folkes_mallows_index: 0.659894868373\n",
      "rand_index: 0.5656673336668334\n",
      "adjusted_rand_index: 0.0611185360941\n",
      "adjusted_mutual_information: 0.0123012952469\n",
      "normalized_mutual_information: 0.0132273220359\n",
      "homogeneity_score: 0.0137370132852\n",
      "completness_score: 0.012736542115\n",
      "v_measure_score: 0.0132178731263\n",
      "jaccard_co_eff: 0.49210693803247313\n",
      "gamma_statistics: 0.06131773213899881\n",
      "kulczynski_index: 0.6601763592541188\n",
      "mcnemar_index: -129.5750850176941\n",
      "phi_index: 6.655671869278097e-14\n",
      "rogers_tanimoto_index: 0.3943766651518486\n",
      "sokal_sneath_index1: 0.3263540037715691\n"
     ]
    }
   ],
   "source": [
    "val_ext=extval.external_indices(main.class_labels,main.spectral_results['labels'])\n",
    "print(\"\\n\\nExternal Indices\",end='\\n\\n')\n",
    "print(\"entropy:\",val_ext.entropy())\n",
    "print(\"precision_coefficient:\",val_ext.precision_coefficient())\n",
    "print(\"recall_coefficient:\",val_ext.recall_coefficient())\n",
    "print(\"f_measure:\",val_ext.f_measure())\n",
    "print(\"weighted_f_measure:\",val_ext.weighted_f_measure())\n",
    "print(\"purity:\",val_ext.purity())\n",
    "print(\"folkes_mallows_index:\",val_ext.folkes_mallows_index())\n",
    "print(\"rand_index:\",val_ext.rand_index())\n",
    "print(\"adjusted_rand_index:\",val_ext. adjusted_rand_index())\n",
    "print(\"adjusted_mutual_information:\",val_ext.adjusted_mutual_information())\n",
    "print(\"normalized_mutual_information:\",val_ext.normalized_mutual_information())\n",
    "print(\"homogeneity_score:\",val_ext.homogeneity_score())\n",
    "print(\"completness_score:\",val_ext.completness_score())\n",
    "print(\"v_measure_score:\",val_ext.v_measure_score())\n",
    "print(\"jaccard_co_eff:\",val_ext.jaccard_co_eff())\n",
    "print(\"gamma_statistics:\",val_ext.hubert_T_index())\n",
    "print(\"kulczynski_index:\",val_ext. kulczynski_index())\n",
    "print(\"mcnemar_index:\",val_ext.mcnemar_index())\n",
    "print(\"phi_index:\",val_ext.phi_index())\n",
    "print(\"rogers_tanimoto_index:\",val_ext. rogers_tanimoto_index())\n",
    "print(\"sokal_sneath_index1:\",val_ext.sokal_sneath_index1())"
   ]
  },
  {
   "cell_type": "markdown",
   "metadata": {},
   "source": [
    "## 2.3.3 Internal Indices for Spectral Clustering result "
   ]
  },
  {
   "cell_type": "code",
   "execution_count": 51,
   "metadata": {},
   "outputs": [
    {
     "name": "stdout",
     "output_type": "stream",
     "text": [
      "Internal Indices\n",
      "\n",
      "ball-hall index :  26486203452.3\n",
      "Banfeld-Raftery index :  47483.2273991\n",
      "Det Ratio Index :  nan\n",
      "Ksq-detw Index  : 0.0\n",
      "Log-det Ratio Index :  nan\n",
      "Log SS Ratio Index :  -1.595944086351829\n",
      "Sillhoutte Index :  0.121915343841\n",
      "Calinski-Harabasz index :  405.028677344\n"
     ]
    },
    {
     "name": "stderr",
     "output_type": "stream",
     "text": [
      "C:\\Users\\ntnsh_000\\Documents\\GitHub\\Clustering-and-validation\\SRC\\internal_indices.py:160: RuntimeWarning: invalid value encountered in double_scalars\n",
      "  return self.det_T/self.det_WG\n",
      "C:\\Users\\ntnsh_000\\Documents\\GitHub\\Clustering-and-validation\\SRC\\internal_indices.py:166: RuntimeWarning: invalid value encountered in double_scalars\n",
      "  return self.n_samples * log(self.det_T/self.det_WG)\n"
     ]
    },
    {
     "name": "stdout",
     "output_type": "stream",
     "text": [
      "C-index :  0.514271008491\n",
      "Dunn Index :  0.00010362577802267086\n",
      "Davies Bouldin Index :  1.10673718908\n",
      "Ray-Turi Index :  0.938350990335\n",
      "Hartigan Index :  -1076.06425872\n",
      "PBM Index :  14339269999.6\n"
     ]
    }
   ],
   "source": [
    "val_int=intval.internal_indices(main.data,main.spectral_results['labels'])\n",
    "\n",
    "print(\"Internal Indices\",end=\"\\n\\n\")\n",
    "print(\"ball-hall index : \",val_int.ball_hall_index())\n",
    "print(\"Banfeld-Raftery index : \",val_int.banfeld_raftery_index())\n",
    "print(\"Det Ratio Index : \",val_int.det_ratio_index())\n",
    "print(\"Ksq-detw Index  :\",val_int.ksq_detw_index())\n",
    "print(\"Log-det Ratio Index : \",val_int.log_det_ratio_index())\n",
    "print(\"Log SS Ratio Index : \",val_int.log_ss_ratio_index())\n",
    "#print(\"Scott-Symons Index : \",val_int.scott_symons_index())(not working for this given dataset)\n",
    "#print(\"Trace WiB Index : \",val_int.trace_wib_index())(not working for this given dataset)\n",
    "print(\"Sillhoutte Index : \",val_int.silhouette_score())\n",
    "print(\"Calinski-Harabasz index : \",val_int.calinski_harabaz_score())\n",
    "print(\"C-index : \",val_int.c_index())\n",
    "print(\"Dunn Index : \",val_int.dunn_index())\n",
    "print(\"Davies Bouldin Index : \",val_int.davies_bouldin_index())\n",
    "print(\"Ray-Turi Index : \",val_int.ray_turi_index())\n",
    "print(\"Hartigan Index : \",val_int.hartigan_index())\n",
    "print(\"PBM Index : \",val_int.pbm_index())"
   ]
  },
  {
   "cell_type": "markdown",
   "metadata": {},
   "source": [
    "## 2.4 Spectral Clustering (Affinity = rbf)"
   ]
  },
  {
   "cell_type": "code",
   "execution_count": 54,
   "metadata": {},
   "outputs": [
    {
     "name": "stderr",
     "output_type": "stream",
     "text": [
      "C:\\ProgramData\\Anaconda3\\lib\\site-packages\\sklearn\\manifold\\spectral_embedding_.py:229: UserWarning: Graph is not fully connected, spectral embedding may not work as expected.\n",
      "  warnings.warn(\"Graph is not fully connected, spectral embedding\"\n"
     ]
    },
    {
     "name": "stdout",
     "output_type": "stream",
     "text": [
      "parameters : {'affinity': 'rbf', 'assign_labels': 'kmeans', 'coef0': 1, 'degree': 3, 'eigen_solver': None, 'eigen_tol': 0.0, 'gamma': 1.0, 'kernel_params': None, 'n_clusters': 2, 'n_init': 10, 'n_jobs': 1, 'n_neighbors': 10, 'random_state': None}\n",
      "labels : [0 0 0 ..., 0 0 0]\n",
      "n_clusters : 2\n",
      "clusters : {0: 1998, 1: 2}\n"
     ]
    }
   ],
   "source": [
    "main.perform_spectral_clustering(no_clusters=2)"
   ]
  },
  {
   "cell_type": "markdown",
   "metadata": {},
   "source": [
    "## 2.4.1  Cluster indices over Spectral Clustering  result "
   ]
  },
  {
   "cell_type": "markdown",
   "metadata": {},
   "source": [
    "## 2.4.2 External Indices for Spectral Clustering result "
   ]
  },
  {
   "cell_type": "code",
   "execution_count": 55,
   "metadata": {},
   "outputs": [
    {
     "name": "stdout",
     "output_type": "stream",
     "text": [
      "\n",
      "\n",
      "External Indices\n",
      "\n",
      "entropy: 0.759808845379\n",
      "precision_coefficient: 0.6563816413400675\n",
      "recall_coefficient: 0.997626085631571\n",
      "f_measure: 0.7918021625321532\n",
      "weighted_f_measure: 0.7918021625321532\n",
      "purity: 0.78\n",
      "folkes_mallows_index: 0.809211620981\n",
      "rand_index: 0.6555097548774387\n",
      "adjusted_rand_index: -0.0014312862283\n",
      "adjusted_mutual_information: -7.69979230067e-05\n",
      "normalized_mutual_information: 0.00385145849928\n",
      "homogeneity_score: 0.000471813884976\n",
      "completness_score: 0.0314397965893\n",
      "v_measure_score: 0.000929676211962\n",
      "jaccard_co_eff: 0.6553580365543611\n",
      "gamma_statistics: -0.01160749207581285\n",
      "kulczynski_index: 0.8270038634858192\n",
      "mcnemar_index: -826.368267070144\n",
      "phi_index: -1.3696163546792515e-13\n",
      "rogers_tanimoto_index: 0.48755262989482206\n",
      "sokal_sneath_index1: 0.4873847867093253\n"
     ]
    }
   ],
   "source": [
    "val_ext=extval.external_indices(main.class_labels,main.spectral_results['labels'])\n",
    "print(\"\\n\\nExternal Indices\",end='\\n\\n')\n",
    "print(\"entropy:\",val_ext.entropy())\n",
    "print(\"precision_coefficient:\",val_ext.precision_coefficient())\n",
    "print(\"recall_coefficient:\",val_ext.recall_coefficient())\n",
    "print(\"f_measure:\",val_ext.f_measure())\n",
    "print(\"weighted_f_measure:\",val_ext.weighted_f_measure())\n",
    "print(\"purity:\",val_ext.purity())\n",
    "print(\"folkes_mallows_index:\",val_ext.folkes_mallows_index())\n",
    "print(\"rand_index:\",val_ext.rand_index())\n",
    "print(\"adjusted_rand_index:\",val_ext. adjusted_rand_index())\n",
    "print(\"adjusted_mutual_information:\",val_ext.adjusted_mutual_information())\n",
    "print(\"normalized_mutual_information:\",val_ext.normalized_mutual_information())\n",
    "print(\"homogeneity_score:\",val_ext.homogeneity_score())\n",
    "print(\"completness_score:\",val_ext.completness_score())\n",
    "print(\"v_measure_score:\",val_ext.v_measure_score())\n",
    "print(\"jaccard_co_eff:\",val_ext.jaccard_co_eff())\n",
    "print(\"gamma_statistics:\",val_ext.hubert_T_index())\n",
    "print(\"kulczynski_index:\",val_ext. kulczynski_index())\n",
    "print(\"mcnemar_index:\",val_ext.mcnemar_index())\n",
    "print(\"phi_index:\",val_ext.phi_index())\n",
    "print(\"rogers_tanimoto_index:\",val_ext. rogers_tanimoto_index())\n",
    "print(\"sokal_sneath_index1:\",val_ext.sokal_sneath_index1())"
   ]
  },
  {
   "cell_type": "markdown",
   "metadata": {},
   "source": [
    "## 2.4.3 Internal Indices for Spectral Clustering result "
   ]
  },
  {
   "cell_type": "code",
   "execution_count": 56,
   "metadata": {},
   "outputs": [
    {
     "name": "stdout",
     "output_type": "stream",
     "text": [
      "Internal Indices\n",
      "\n",
      "ball-hall index :  23319943467.4\n",
      "Banfeld-Raftery index :  49079.5398769\n",
      "Det Ratio Index :  nan\n",
      "Ksq-detw Index  : 0.0\n",
      "Log-det Ratio Index :  nan\n",
      "Log SS Ratio Index :  -7.449529441001093\n",
      "Sillhoutte Index :  -0.258510234824"
     ]
    },
    {
     "name": "stderr",
     "output_type": "stream",
     "text": [
      "C:\\Users\\ntnsh_000\\Documents\\GitHub\\Clustering-and-validation\\SRC\\internal_indices.py:160: RuntimeWarning: invalid value encountered in double_scalars\n",
      "  return self.det_T/self.det_WG\n",
      "C:\\Users\\ntnsh_000\\Documents\\GitHub\\Clustering-and-validation\\SRC\\internal_indices.py:166: RuntimeWarning: invalid value encountered in double_scalars\n",
      "  return self.n_samples * log(self.det_T/self.det_WG)\n"
     ]
    },
    {
     "name": "stdout",
     "output_type": "stream",
     "text": [
      "\n",
      "Calinski-Harabasz index :  1.16226712776\n",
      "C-index :  0.851420575978\n",
      "Dunn Index :  0.0005363947420531688\n",
      "Davies Bouldin Index :  1.07589560139\n",
      "Ray-Turi Index :  1.71733498464\n",
      "Hartigan Index :  -890.018824598\n",
      "PBM Index :  6792304332.19\n"
     ]
    }
   ],
   "source": [
    "val_int=intval.internal_indices(main.data,main.spectral_results['labels'])\n",
    "\n",
    "print(\"Internal Indices\",end=\"\\n\\n\")\n",
    "print(\"ball-hall index : \",val_int.ball_hall_index())\n",
    "print(\"Banfeld-Raftery index : \",val_int.banfeld_raftery_index())\n",
    "print(\"Det Ratio Index : \",val_int.det_ratio_index())\n",
    "print(\"Ksq-detw Index  :\",val_int.ksq_detw_index())\n",
    "print(\"Log-det Ratio Index : \",val_int.log_det_ratio_index())\n",
    "print(\"Log SS Ratio Index : \",val_int.log_ss_ratio_index())\n",
    "#print(\"Scott-Symons Index : \",val_int.scott_symons_index())(not working for this given dataset)\n",
    "#print(\"Trace WiB Index : \",val_int.trace_wib_index())(not working for this given dataset)\n",
    "print(\"Sillhoutte Index : \",val_int.silhouette_score())\n",
    "print(\"Calinski-Harabasz index : \",val_int.calinski_harabaz_score())\n",
    "print(\"C-index : \",val_int.c_index())\n",
    "print(\"Dunn Index : \",val_int.dunn_index())\n",
    "print(\"Davies Bouldin Index : \",val_int.davies_bouldin_index())\n",
    "print(\"Ray-Turi Index : \",val_int.ray_turi_index())\n",
    "print(\"Hartigan Index : \",val_int.hartigan_index())\n",
    "print(\"PBM Index : \",val_int.pbm_index())"
   ]
  },
  {
   "cell_type": "code",
   "execution_count": null,
   "metadata": {
    "collapsed": true
   },
   "outputs": [],
   "source": []
  },
  {
   "cell_type": "markdown",
   "metadata": {},
   "source": [
    "## 2.5 Heirarchical Clustering "
   ]
  },
  {
   "cell_type": "code",
   "execution_count": null,
   "metadata": {},
   "outputs": [],
   "source": [
    "main.perform_hierarchial(no_clusters=2)"
   ]
  },
  {
   "cell_type": "markdown",
   "metadata": {},
   "source": [
    "## 2.5.1  Cluster indices over Heirarchical Clustering   result (add heirarchical result variable )"
   ]
  },
  {
   "cell_type": "markdown",
   "metadata": {},
   "source": [
    "## 2.5.2 External Indices for Heirarchical Clustering  result "
   ]
  },
  {
   "cell_type": "code",
   "execution_count": null,
   "metadata": {},
   "outputs": [],
   "source": [
    "val_ext=extval.external_indices(main.class_labels,main.['labels'])\n",
    "print(\"\\n\\nExternal Indices\",end='\\n\\n')\n",
    "print(\"entropy:\",val_ext.entropy())\n",
    "print(\"precision_coefficient:\",val_ext.precision_coefficient())\n",
    "print(\"recall_coefficient:\",val_ext.recall_coefficient())\n",
    "print(\"f_measure:\",val_ext.f_measure())\n",
    "print(\"weighted_f_measure:\",val_ext.weighted_f_measure())\n",
    "print(\"purity:\",val_ext.purity())\n",
    "print(\"folkes_mallows_index:\",val_ext.folkes_mallows_index())\n",
    "print(\"rand_index:\",val_ext.rand_index())\n",
    "print(\"adjusted_rand_index:\",val_ext. adjusted_rand_index())\n",
    "print(\"adjusted_mutual_information:\",val_ext.adjusted_mutual_information())\n",
    "print(\"normalized_mutual_information:\",val_ext.normalized_mutual_information())\n",
    "print(\"homogeneity_score:\",val_ext.homogeneity_score())\n",
    "print(\"completness_score:\",val_ext.completness_score())\n",
    "print(\"v_measure_score:\",val_ext.v_measure_score())\n",
    "print(\"jaccard_co_eff:\",val_ext.jaccard_co_eff())\n",
    "print(\"gamma_statistics:\",val_ext.hubert_T_index())\n",
    "print(\"kulczynski_index:\",val_ext. kulczynski_index())\n",
    "print(\"mcnemar_index:\",val_ext.mcnemar_index())\n",
    "print(\"phi_index:\",val_ext.phi_index())\n",
    "print(\"rogers_tanimoto_index:\",val_ext. rogers_tanimoto_index())\n",
    "print(\"sokal_sneath_index1:\",val_ext.sokal_sneath_index1())"
   ]
  },
  {
   "cell_type": "markdown",
   "metadata": {},
   "source": [
    "## 2.5.3 Internal Indices for Heirarchical Clustering  result "
   ]
  },
  {
   "cell_type": "code",
   "execution_count": null,
   "metadata": {},
   "outputs": [],
   "source": [
    "val_int=intval.internal_indices(main.data,main.['labels'])\n",
    "\n",
    "print(\"Internal Indices\",end=\"\\n\\n\")\n",
    "print(\"ball-hall index : \",val_int.ball_hall_index())\n",
    "print(\"Banfeld-Raftery index : \",val_int.banfeld_raftery_index())\n",
    "print(\"Det Ratio Index : \",val_int.det_ratio_index())\n",
    "print(\"Ksq-detw Index  :\",val_int.ksq_detw_index())\n",
    "print(\"Log-det Ratio Index : \",val_int.log_det_ratio_index())\n",
    "print(\"Log SS Ratio Index : \",val_int.log_ss_ratio_index())\n",
    "#print(\"Scott-Symons Index : \",val_int.scott_symons_index())#(not working for this given dataset)\n",
    "#print(\"Trace WiB Index : \",val_int.trace_wib_index())(not working for this given dataset)\n",
    "print(\"Sillhoutte Index : \",val_int.silhouette_score())\n",
    "print(\"Calinski-Harabasz index : \",val_int.calinski_harabaz_score())\n",
    "print(\"C-index : \",val_int.c_index())\n",
    "print(\"Dunn Index : \",val_int.dunn_index())\n",
    "print(\"Davies Bouldin Index : \",val_int.davies_bouldin_index())\n",
    "print(\"Ray-Turi Index : \",val_int.ray_turi_index())\n",
    "print(\"Hartigan Index : \",val_int.hartigan_index())\n",
    "print(\"PBM Index : \",val_int.pbm_index())"
   ]
  },
  {
   "cell_type": "code",
   "execution_count": null,
   "metadata": {
    "collapsed": true
   },
   "outputs": [],
   "source": []
  },
  {
   "cell_type": "markdown",
   "metadata": {},
   "source": [
    "## 2.6 DBSCAN"
   ]
  },
  {
   "cell_type": "code",
   "execution_count": null,
   "metadata": {},
   "outputs": [],
   "source": [
    "main.det_dbscan_params()"
   ]
  },
  {
   "cell_type": "code",
   "execution_count": null,
   "metadata": {
    "collapsed": true
   },
   "outputs": [],
   "source": [
    "main.perform_dbscan()"
   ]
  },
  {
   "cell_type": "markdown",
   "metadata": {},
   "source": [
    "## 2.6.1  Cluster indices over DBSCAN Clustering  result "
   ]
  },
  {
   "cell_type": "markdown",
   "metadata": {},
   "source": [
    "## 2.6.2 External Indices for DBSCAN Clustering result "
   ]
  },
  {
   "cell_type": "code",
   "execution_count": null,
   "metadata": {},
   "outputs": [],
   "source": [
    "val_ext=extval.external_indices(main.class_labels,main.dbscan_results['labels'])\n",
    "print(\"\\n\\nExternal Indices\",end='\\n\\n')\n",
    "print(\"entropy:\",val_ext.entropy())\n",
    "print(\"precision_coefficient:\",val_ext.precision_coefficient())\n",
    "print(\"recall_coefficient:\",val_ext.recall_coefficient())\n",
    "print(\"f_measure:\",val_ext.f_measure())\n",
    "print(\"weighted_f_measure:\",val_ext.weighted_f_measure())\n",
    "print(\"purity:\",val_ext.purity())\n",
    "print(\"folkes_mallows_index:\",val_ext.folkes_mallows_index())\n",
    "print(\"rand_index:\",val_ext.rand_index())\n",
    "print(\"adjusted_rand_index:\",val_ext. adjusted_rand_index())\n",
    "print(\"adjusted_mutual_information:\",val_ext.adjusted_mutual_information())\n",
    "print(\"normalized_mutual_information:\",val_ext.normalized_mutual_information())\n",
    "print(\"homogeneity_score:\",val_ext.homogeneity_score())\n",
    "print(\"completness_score:\",val_ext.completness_score())\n",
    "print(\"v_measure_score:\",val_ext.v_measure_score())\n",
    "print(\"jaccard_co_eff:\",val_ext.jaccard_co_eff())\n",
    "print(\"gamma_statistics:\",val_ext.hubert_T_index())\n",
    "print(\"kulczynski_index:\",val_ext. kulczynski_index())\n",
    "print(\"mcnemar_index:\",val_ext.mcnemar_index())\n",
    "print(\"phi_index:\",val_ext.phi_index())\n",
    "print(\"rogers_tanimoto_index:\",val_ext. rogers_tanimoto_index())\n",
    "print(\"sokal_sneath_index1:\",val_ext.sokal_sneath_index1())"
   ]
  },
  {
   "cell_type": "markdown",
   "metadata": {},
   "source": [
    "## 2.6.3 Internal Indices for DBSCAN Clustering result "
   ]
  },
  {
   "cell_type": "code",
   "execution_count": null,
   "metadata": {},
   "outputs": [],
   "source": [
    "val_int=intval.internal_indices(main.data,main.dbscan_results['labels'])\n",
    "\n",
    "print(\"Internal Indices\",end=\"\\n\\n\")\n",
    "print(\"ball-hall index : \",val_int.ball_hall_index())\n",
    "print(\"Banfeld-Raftery index : \",val_int.banfeld_raftery_index())\n",
    "print(\"Det Ratio Index : \",val_int.det_ratio_index())\n",
    "print(\"Ksq-detw Index  :\",val_int.ksq_detw_index())\n",
    "print(\"Log-det Ratio Index : \",val_int.log_det_ratio_index())\n",
    "print(\"Log SS Ratio Index : \",val_int.log_ss_ratio_index())\n",
    "#print(\"Scott-Symons Index : \",val_int.scott_symons_index())(not working for this given dataset)\n",
    "#print(\"Trace WiB Index : \",val_int.trace_wib_index())(not working for this given dataset)\n",
    "print(\"Sillhoutte Index : \",val_int.silhouette_score())\n",
    "print(\"Calinski-Harabasz index : \",val_int.calinski_harabaz_score())\n",
    "print(\"C-index : \",val_int.c_index())\n",
    "print(\"Dunn Index : \",val_int.dunn_index())\n",
    "print(\"Davies Bouldin Index : \",val_int.davies_bouldin_index())\n",
    "print(\"Ray-Turi Index : \",val_int.ray_turi_index())\n",
    "print(\"Hartigan Index : \",val_int.hartigan_index())\n",
    "print(\"PBM Index : \",val_int.pbm_index())"
   ]
  },
  {
   "cell_type": "markdown",
   "metadata": {},
   "source": [
    "## 3 Classification"
   ]
  },
  {
   "cell_type": "markdown",
   "metadata": {},
   "source": [
    "## 3.1  import dependencied and  Bag"
   ]
  },
  {
   "cell_type": "code",
   "execution_count": 95,
   "metadata": {
    "collapsed": true
   },
   "outputs": [],
   "source": [
    "import SRC.Supervised as SUP"
   ]
  },
  {
   "cell_type": "code",
   "execution_count": 96,
   "metadata": {},
   "outputs": [],
   "source": [
    "main = SUP.Classification()"
   ]
  },
  {
   "cell_type": "code",
   "execution_count": 97,
   "metadata": {},
   "outputs": [
    {
     "data": {
      "text/plain": [
       "{'data': array([[  8.00000000e+04,   4.60000000e+01,   3.91150000e+04, ...,\n",
       "           0.00000000e+00,   0.00000000e+00,   0.00000000e+00],\n",
       "        [  4.70000000e+05,   4.70000000e+01,   4.47057000e+05, ...,\n",
       "           0.00000000e+00,   0.00000000e+00,   0.00000000e+00],\n",
       "        [  3.00000000e+04,   2.90000000e+01,   3.36660000e+04, ...,\n",
       "           0.00000000e+00,   0.00000000e+00,   0.00000000e+00],\n",
       "        ..., \n",
       "        [  1.30000000e+05,   3.90000000e+01,   6.65480000e+04, ...,\n",
       "           0.00000000e+00,   0.00000000e+00,   0.00000000e+00],\n",
       "        [  2.60000000e+05,   3.50000000e+01,  -1.50000000e+01, ...,\n",
       "           0.00000000e+00,   0.00000000e+00,   0.00000000e+00],\n",
       "        [  2.00000000e+04,   3.40000000e+01,   1.71790000e+04, ...,\n",
       "           0.00000000e+00,   0.00000000e+00,   0.00000000e+00]]),\n",
       " 'target': array([0, 0, 1, ..., 1, 0, 1], dtype=int64)}"
      ]
     },
     "execution_count": 97,
     "metadata": {},
     "output_type": "execute_result"
    }
   ],
   "source": [
    "import pickle \n",
    "X=pickle.load(open(\"DATASETS/UCI_credit_card_bags1.p\",\"rb\"))\n",
    "X"
   ]
  },
  {
   "cell_type": "code",
   "execution_count": 98,
   "metadata": {},
   "outputs": [],
   "source": [
    "main.load_data(X[\"data\"],X[\"target\"])"
   ]
  },
  {
   "cell_type": "markdown",
   "metadata": {},
   "source": [
    "## 3.1.1 Splitting data into test and train using sklearn API\n",
    "### (test:train = 60:40)"
   ]
  },
  {
   "cell_type": "code",
   "execution_count": 100,
   "metadata": {},
   "outputs": [],
   "source": [
    "main.train_test_split()"
   ]
  },
  {
   "cell_type": "markdown",
   "metadata": {},
   "source": [
    "## 3.2.1  Gaussian NB"
   ]
  },
  {
   "cell_type": "code",
   "execution_count": 104,
   "metadata": {},
   "outputs": [
    {
     "name": "stdout",
     "output_type": "stream",
     "text": [
      "parameters : {'priors': None}\n",
      "labels_test_data : [0 0 0 0 0 0 0 0 0 0 0 0 0 0 0 0 0 0 0 0 0 0 0 0 0 0 0 0 0 0 1 0 0 0 0 0 0\n",
      " 0 0 0 0 1 0 0 0 0 0 0 0 0 0 0 0 0 0 0 0 0 0 0 0 0 0 0 1 0 0 0 0 0 0 0 0 0\n",
      " 0 0 0 0 0 0 0 0 0 0 0 0 0 0 0 0 0 0 0 0 0 0 0 0 0 0 0 0 0 0 0 0 0 0 0 0 1\n",
      " 1 0 0 1 0 0 0 0 0 0 1 0 0 0 0 0 0 0 0 0 0 0 0 0 0 0 0 0 0 0 0 0 0 0 0 0 0\n",
      " 0 0 0 1 0 0 0 0 0 0 0 1 0 0 0 0 0 0 0 0 0 0 0 1 0 0 0 0 0 0 1 0 0 0 0 0 0\n",
      " 0 0 0 1 0 0 0 0 0 0 0 0 0 0 0 0 0 0 0 0 0 0 0 1 0 0 0 0 0 0 0 0 0 0 0 0 0\n",
      " 0 0 0 0 0 0 0 0 0 1 0 0 0 0 0 0 0 0 0 0 0 0 1 0 0 0 0 0 0 1 0 0 0 0 0 0 0\n",
      " 0 0 0 0 0 0 1 0 0 0 0 0 0 0 0 0 0 0 0 0 0 0 0 0 0 0 0 0 0 0 0 1 0 0 0 0 0\n",
      " 0 0 0 0 1 0 0 0 0 0 1 0 0 0 0 0 0 0 1 0 0 0 0 0 0 0 0 0 0 0 1 0 0 0 0 0 0\n",
      " 0 0 0 0 1 0 0 0 0 0 0 0 0 0 0 0 0 0 0 0 0 0 0 0 0 0 1 0 0 0 0 0 0 0 0 0 0\n",
      " 0 0 0 0 0 0 0 0 0 0 0 1 0 0 0 0 0 0 0 0 0 0 0 0 0 0 0 0 0 0 0 0 1 0 0 0 0\n",
      " 0 0 0 0 0 0 0 0 0 0 0 0 0 0 0 0 1 0 0 0 0 0 0 0 0 0 0 1 0 0 0 0 0 0 0 0 0\n",
      " 0 0 0 0 0 0 0 0 0 0 1 1 0 0 0 0 1 0 0 0 1 1 0 0 0 0 0 0 0 0 0 0 0 0 0 0 0\n",
      " 0 0 0 0 0 0 0 0 0 0 0 0 0 0 0 0 0 0 0 0 0 0 0 0 0 0 0 0 0 0 0 0 0 0 0 0 0\n",
      " 0 0 0 0 0 0 0 0 0 0 0 0 0 0 0 0 0 0 0 0 0 1 0 0 0 0 1 0 0 0 0 0 0 0 0 0 0\n",
      " 0 0 0 0 0 0 0 0 0 1 0 0 0 0 0 0 0 0 0 0 0 0 1 0 0 0 0 0 0 0 0 0 0 0 1 0 0\n",
      " 0 0 0 0 0 0 0 0 0 0 1 0 0 0 0 0 0 0 0 0 0 0 0 0 0 0 0 0 0 0 0 0 0 0 0 0 0\n",
      " 1 0 0 0 0 0 0 0 0 0 0 0 0 0 0 0 0 0 0 0 1 0 0 0 0 0 0 1 0 0 1 0 0 0 0 1 0\n",
      " 0 0 1 0 0 0 0 0 1 0 0 0 0 0 1 0 0 0 0 0 0 0 0 0 0 0 0 1 1 0 0 0 0 1 0 1 0\n",
      " 0 0 0 0 1 1 0 0 0 0 0 0 0 0 1 0 0 0 0 0 1 0 0 0 0 0 0 0 0 0 0 0 0 1 0 0 0\n",
      " 0 0 0 0 0 0 0 0 0 0 0 0 0 0 0 0 0 0 0 1 0 0 0 0 0 0 0 0 0 0 0 0 1 0 0 0 0\n",
      " 0 0 0 0 0 0 1 0 0 0 0 0 1 0 0 0 1 0 1 0 0 0 0]\n",
      "score : 0.74\n",
      "f1_score:\n",
      "0.468057899852\n"
     ]
    }
   ],
   "source": [
    "main.perform_GaussianNB()"
   ]
  },
  {
   "cell_type": "markdown",
   "metadata": {},
   "source": [
    "## 3.2.2 Decision Tree"
   ]
  },
  {
   "cell_type": "code",
   "execution_count": 105,
   "metadata": {},
   "outputs": [
    {
     "name": "stdout",
     "output_type": "stream",
     "text": [
      "parameters : {'class_weight': None, 'criterion': 'gini', 'max_depth': None, 'max_features': None, 'max_leaf_nodes': None, 'min_impurity_split': 1e-07, 'min_samples_leaf': 1, 'min_samples_split': 2, 'min_weight_fraction_leaf': 0.0, 'presort': False, 'random_state': None, 'splitter': 'best'}\n",
      "labels_test_data : [0 1 0 0 1 0 0 0 0 1 0 0 0 0 0 0 1 1 0 0 0 0 0 0 0 0 0 1 1 0 0 0 0 1 0 0 0\n",
      " 0 0 0 0 0 1 0 0 0 0 0 0 1 0 1 0 0 0 0 0 0 0 0 0 1 1 0 1 0 0 0 0 0 1 0 1 1\n",
      " 0 1 0 0 1 0 1 0 1 1 0 0 1 0 1 1 1 0 0 0 1 0 0 0 0 1 1 0 1 0 0 0 1 1 0 1 1\n",
      " 0 1 0 0 0 0 0 1 0 1 0 0 0 0 0 0 0 1 0 0 0 0 0 0 1 0 0 0 0 0 0 0 0 0 0 0 0\n",
      " 1 0 0 0 0 1 0 0 0 0 1 0 0 0 0 0 0 0 0 0 1 0 0 1 0 1 1 1 0 0 0 1 0 1 1 0 1\n",
      " 0 0 0 0 0 0 0 0 0 1 0 0 0 0 1 0 0 1 0 0 1 1 0 0 1 1 1 0 0 1 0 0 1 0 0 1 0\n",
      " 0 0 0 1 0 0 0 0 0 0 0 0 1 0 0 0 0 0 0 0 0 0 1 0 0 0 0 0 0 1 0 1 0 1 1 0 1\n",
      " 1 0 1 1 0 0 0 0 1 1 0 1 0 0 0 0 1 0 1 1 0 1 0 0 0 0 0 0 1 0 0 0 0 0 0 0 0\n",
      " 0 1 0 0 1 0 0 1 0 0 0 1 1 0 0 0 1 1 0 1 0 1 1 0 0 1 0 1 0 1 1 0 0 0 0 1 0\n",
      " 0 0 1 0 1 0 0 1 0 0 1 0 0 0 0 0 0 0 1 1 0 0 0 0 0 1 0 0 0 0 0 0 1 0 0 1 0\n",
      " 0 0 0 0 1 0 0 1 1 1 0 0 0 0 0 1 1 0 0 1 0 0 0 0 0 0 1 1 0 0 0 0 1 0 1 0 1\n",
      " 0 0 0 0 0 0 0 0 1 0 0 0 1 1 0 0 0 0 0 0 1 0 0 0 0 0 0 1 0 0 0 1 0 0 1 0 0\n",
      " 0 0 0 1 0 0 0 1 1 0 1 1 0 1 0 0 0 1 0 0 0 0 0 0 1 0 0 0 0 0 0 0 0 0 0 0 0\n",
      " 0 0 0 0 0 1 0 0 0 0 0 0 0 0 0 1 0 0 0 0 0 0 1 0 1 0 0 0 0 0 0 0 0 1 0 1 1\n",
      " 0 0 0 0 0 0 0 0 0 0 0 0 0 0 0 1 0 1 0 0 0 0 1 0 0 0 0 0 1 0 1 0 0 0 1 1 0\n",
      " 0 0 0 0 0 0 0 0 0 1 0 0 0 0 0 0 0 0 0 0 0 0 1 0 0 1 0 0 0 1 1 0 1 0 0 0 0\n",
      " 1 0 0 1 0 1 0 0 0 0 1 0 0 0 1 0 1 0 1 0 1 0 0 0 0 0 0 0 1 0 0 0 0 0 0 1 0\n",
      " 0 0 0 1 0 0 1 0 0 0 0 1 0 0 0 0 0 0 0 0 0 0 1 0 0 0 0 0 0 1 1 0 0 0 0 0 0\n",
      " 0 1 0 0 0 0 0 0 0 1 0 1 1 0 0 0 0 0 1 0 0 0 0 0 0 0 0 0 0 0 0 0 0 0 1 1 1\n",
      " 1 0 0 0 1 0 1 0 0 0 0 1 1 0 1 1 0 0 1 0 0 0 0 1 0 0 0 0 1 0 0 0 0 1 0 0 1\n",
      " 0 0 0 0 1 1 1 0 0 0 0 1 0 1 0 1 0 1 0 0 0 1 0 0 0 0 0 0 0 1 0 1 0 0 0 0 1\n",
      " 0 1 1 0 0 0 0 0 0 0 0 1 1 0 0 1 0 0 1 0 0 0 0]\n",
      "score : 0.72875\n",
      "f1_score:\n",
      "0.619264012773\n"
     ]
    }
   ],
   "source": [
    "main.perform_DecisionTreeClassifier()"
   ]
  },
  {
   "cell_type": "code",
   "execution_count": 106,
   "metadata": {},
   "outputs": [
    {
     "name": "stdout",
     "output_type": "stream",
     "text": [
      "parameters : {'bootstrap': True, 'class_weight': None, 'criterion': 'gini', 'max_depth': None, 'max_features': 'auto', 'max_leaf_nodes': None, 'min_impurity_split': 1e-07, 'min_samples_leaf': 1, 'min_samples_split': 2, 'min_weight_fraction_leaf': 0.0, 'n_estimators': 10, 'n_jobs': 1, 'oob_score': False, 'random_state': None, 'verbose': 0, 'warm_start': False}\n",
      "labels_test_data : [0 1 0 0 1 0 0 0 0 0 0 1 0 0 0 0 0 1 0 0 0 0 0 0 0 0 0 1 0 0 0 0 0 0 0 0 0\n",
      " 0 0 0 0 0 0 0 0 0 0 0 0 0 0 0 0 0 0 0 0 0 1 0 0 1 0 0 0 0 0 0 0 0 0 0 0 0\n",
      " 0 0 0 0 0 0 0 0 0 1 0 0 1 0 1 1 0 0 0 0 0 0 0 0 1 0 0 0 0 0 0 0 0 0 0 0 0\n",
      " 0 1 1 0 0 0 0 0 0 1 0 0 0 0 0 0 0 0 0 0 0 0 0 0 0 1 1 0 0 0 0 0 0 0 0 0 0\n",
      " 0 0 0 0 0 0 0 0 0 0 0 0 0 0 0 0 0 0 0 0 0 0 0 0 0 1 0 0 0 0 0 0 0 0 0 0 0\n",
      " 0 0 0 0 0 0 0 1 0 0 0 0 0 0 0 0 0 0 0 1 0 1 0 0 0 1 1 0 0 0 0 0 0 0 0 0 0\n",
      " 0 0 0 0 0 0 0 0 0 0 0 0 0 0 0 0 0 0 0 1 0 0 0 0 0 0 0 0 0 0 0 0 0 0 1 0 0\n",
      " 0 0 0 1 0 0 0 0 1 0 0 1 0 0 0 0 0 0 0 0 0 1 0 1 0 0 1 0 0 0 0 0 0 0 0 0 0\n",
      " 0 0 0 0 0 0 0 1 0 0 0 0 1 0 0 0 0 1 0 0 0 1 0 0 0 1 0 0 0 1 1 0 0 0 0 0 0\n",
      " 0 0 0 0 0 0 0 0 1 0 1 0 0 1 0 0 0 1 0 0 0 0 0 0 0 0 0 0 0 0 0 0 0 0 0 0 0\n",
      " 0 0 0 0 0 0 0 0 0 1 0 0 0 0 0 0 1 0 0 0 0 0 0 0 0 0 1 0 0 0 1 0 0 0 0 0 0\n",
      " 0 0 1 0 0 0 0 0 0 0 0 0 1 0 0 0 0 0 0 0 0 0 1 0 0 0 0 0 0 0 0 0 0 0 0 0 0\n",
      " 0 0 0 0 0 0 0 1 0 0 0 0 0 0 0 0 0 1 0 0 0 0 0 0 1 0 0 0 0 0 0 0 0 0 0 0 0\n",
      " 0 0 0 0 0 0 0 0 0 0 0 0 0 0 0 0 0 0 0 0 0 0 0 0 1 0 0 0 0 0 0 0 0 0 0 0 1\n",
      " 0 0 0 0 0 0 0 0 0 0 0 0 0 0 0 0 0 0 0 1 0 0 0 1 0 0 0 0 1 0 1 0 1 0 0 0 0\n",
      " 0 0 0 0 0 0 0 0 0 1 0 0 0 0 0 0 0 0 0 0 0 0 0 0 0 0 0 0 0 0 0 0 0 0 0 0 1\n",
      " 0 0 0 1 0 0 0 0 0 0 1 0 0 0 0 0 1 0 0 1 0 0 0 0 0 0 0 0 1 0 0 0 0 0 0 0 0\n",
      " 0 0 0 0 0 0 0 0 0 0 0 1 0 0 0 0 0 0 0 0 0 0 0 0 0 0 0 0 0 1 0 0 0 0 0 0 0\n",
      " 0 0 0 0 0 0 0 0 0 1 0 1 0 0 0 0 0 0 0 0 0 0 0 0 1 0 0 0 0 0 0 0 0 0 1 0 1\n",
      " 0 0 0 0 0 0 1 0 0 0 0 0 1 0 1 0 0 1 0 0 0 0 0 0 0 0 0 0 0 0 0 0 0 1 0 0 0\n",
      " 0 0 0 0 0 0 0 0 0 0 0 1 0 0 0 1 0 0 0 0 0 1 0 0 0 0 0 0 0 0 0 0 0 0 0 0 0\n",
      " 0 0 0 0 0 0 0 0 0 0 0 1 0 0 0 1 0 0 0 0 1 0 0]\n",
      "score : 0.7975\n",
      "f1_score:\n",
      "0.616\n"
     ]
    }
   ],
   "source": [
    "main.perform_random_forest_classifier()"
   ]
  },
  {
   "cell_type": "code",
   "execution_count": 107,
   "metadata": {},
   "outputs": [
    {
     "name": "stdout",
     "output_type": "stream",
     "text": [
      "parameters : {'C': 1.0, 'cache_size': 200, 'class_weight': None, 'coef0': 0.0, 'decision_function_shape': 'ovo', 'degree': 3, 'gamma': 'auto', 'kernel': 'rbf', 'max_iter': -1, 'probability': False, 'random_state': None, 'shrinking': True, 'tol': 0.001, 'verbose': False}\n",
      "labels_test_data : [0 0 0 0 0 0 0 0 0 0 0 0 0 0 0 0 0 0 0 0 0 0 0 0 0 0 0 0 0 0 0 0 0 0 0 0 0\n",
      " 0 0 0 0 0 0 0 0 0 0 0 0 0 0 0 0 0 0 0 0 0 0 0 0 0 0 0 0 0 0 0 1 0 0 0 0 0\n",
      " 0 0 0 0 0 0 0 0 0 0 0 0 0 0 0 0 0 0 0 0 0 0 0 0 0 0 0 0 0 0 0 0 0 0 0 0 0\n",
      " 0 0 0 0 0 0 0 0 0 0 0 0 0 0 0 0 0 0 0 0 0 0 0 0 0 0 0 0 0 0 0 0 0 0 0 0 0\n",
      " 0 0 0 0 0 0 0 0 0 0 0 0 0 0 0 0 0 0 0 0 0 0 0 0 0 0 0 0 0 0 0 0 0 0 0 0 0\n",
      " 0 0 0 0 0 0 0 0 0 0 0 0 0 0 0 0 0 0 0 0 0 0 0 0 0 0 0 0 0 0 0 0 0 0 0 0 0\n",
      " 0 0 0 0 0 0 0 0 0 0 0 0 0 0 0 0 0 0 0 0 0 0 0 0 0 0 0 0 0 0 0 0 0 0 0 0 0\n",
      " 0 0 0 0 0 0 0 0 0 0 0 0 0 0 0 0 0 0 0 0 0 0 0 0 0 0 0 0 0 0 0 0 0 0 0 0 0\n",
      " 0 0 0 0 0 0 0 0 0 0 0 0 0 0 0 0 0 0 0 0 0 0 0 0 0 0 0 0 0 0 0 0 0 0 0 0 0\n",
      " 0 0 0 0 0 0 0 0 0 0 0 0 0 0 0 0 0 0 0 0 0 0 0 0 0 0 0 0 0 0 0 0 0 0 0 0 0\n",
      " 0 0 0 0 0 0 0 0 0 0 0 0 0 0 0 0 0 0 0 0 0 0 0 0 0 0 0 0 0 0 0 0 0 0 0 0 0\n",
      " 0 0 0 0 0 0 0 0 0 0 0 0 0 0 0 0 0 0 0 0 0 0 0 0 0 0 0 0 0 0 0 0 0 0 0 0 0\n",
      " 0 0 0 0 0 0 0 0 0 0 0 0 0 0 0 0 0 0 0 0 0 0 0 0 0 0 0 0 0 0 0 0 0 0 0 0 0\n",
      " 0 0 0 0 0 0 0 0 0 0 0 0 0 0 0 0 0 0 0 0 0 0 0 0 0 0 0 0 0 0 0 0 0 0 0 1 0\n",
      " 0 0 0 0 0 0 0 0 0 0 0 0 0 0 0 1 0 0 0 0 0 0 0 0 0 0 0 0 0 0 0 0 0 0 0 0 0\n",
      " 0 0 0 0 0 0 0 0 0 0 0 0 0 0 0 0 0 0 0 0 0 0 0 0 0 0 0 0 0 0 0 0 0 0 0 0 0\n",
      " 0 0 0 0 0 0 0 0 0 0 0 0 0 0 0 0 0 0 0 0 0 0 0 0 0 0 0 0 0 0 0 0 0 0 0 0 0\n",
      " 0 0 0 0 0 0 0 0 0 0 0 0 0 0 0 0 0 0 0 0 0 0 0 0 0 0 0 0 0 0 0 0 0 0 0 0 0\n",
      " 0 0 0 0 0 0 0 0 0 0 0 0 0 0 0 0 0 0 0 0 0 0 0 0 0 0 0 0 0 0 0 0 0 0 0 0 0\n",
      " 1 0 0 0 0 0 0 0 0 0 0 0 0 0 0 0 0 0 0 0 0 0 0 0 0 0 0 0 0 0 0 0 0 0 0 0 0\n",
      " 0 0 0 0 0 0 0 0 0 0 0 0 0 0 0 0 0 0 0 0 0 0 0 0 0 0 0 0 0 0 0 0 0 0 0 0 0\n",
      " 0 0 0 0 0 0 0 0 0 0 0 0 0 0 0 0 0 0 0 0 0 0 0]\n",
      "score : 0.7925\n",
      "f1_score:\n",
      "0.45372274784\n"
     ]
    }
   ],
   "source": [
    "main.perform_svm_SVC()"
   ]
  },
  {
   "cell_type": "code",
   "execution_count": 109,
   "metadata": {},
   "outputs": [
    {
     "name": "stdout",
     "output_type": "stream",
     "text": [
      "parameters : {'priors': None, 'reg_param': 0.0, 'store_covariances': False, 'tol': 0.0001}\n",
      "labels_test_data : [1 1 1 1 1 1 1 1 1 1 1 1 1 1 1 1 1 1 1 1 1 1 1 1 1 1 1 1 1 1 0 1 1 1 1 1 1\n",
      " 1 1 1 1 1 1 1 1 1 1 1 1 1 1 1 1 1 1 1 1 1 1 1 1 1 1 1 1 1 1 1 1 1 1 1 1 1\n",
      " 1 0 1 1 1 1 1 1 1 1 1 1 1 1 1 1 1 1 1 1 1 1 1 1 1 1 1 1 1 1 1 1 1 1 1 1 1\n",
      " 1 1 1 1 1 1 1 1 1 1 1 1 1 1 1 1 0 1 1 1 1 1 1 1 1 1 1 1 1 1 1 1 1 1 1 1 1\n",
      " 1 1 1 1 1 1 0 1 1 0 1 1 1 1 1 1 1 1 1 0 1 1 1 1 1 1 1 0 1 1 1 1 1 1 1 1 1\n",
      " 1 1 1 1 1 1 1 1 1 1 1 1 1 1 1 1 1 1 1 1 1 1 1 1 1 1 1 1 1 1 1 1 1 1 1 1 1\n",
      " 1 1 1 1 1 1 1 1 1 1 1 1 1 1 1 1 1 1 1 1 1 1 1 1 1 1 1 1 1 0 1 1 1 1 1 1 1\n",
      " 1 1 1 1 1 1 1 1 1 1 1 1 1 1 1 1 1 1 1 1 1 1 1 1 1 1 1 1 1 1 1 1 1 1 1 1 1\n",
      " 1 1 1 1 0 1 1 1 1 1 1 1 1 1 1 1 1 1 1 1 1 1 1 1 1 1 1 1 1 1 1 1 1 1 1 1 1\n",
      " 1 1 1 1 1 1 1 1 1 1 1 1 1 1 1 1 1 1 1 1 1 1 1 1 1 1 1 1 1 1 1 1 1 1 1 1 1\n",
      " 1 1 1 1 1 1 1 1 1 1 1 1 1 1 1 1 1 1 0 1 1 1 1 1 1 1 1 1 1 1 1 1 1 1 1 1 1\n",
      " 1 1 1 1 1 1 1 1 1 1 1 1 1 1 0 1 1 1 1 1 1 1 1 1 1 1 1 1 1 1 1 1 1 0 1 1 1\n",
      " 1 1 1 1 1 1 1 1 1 1 1 1 1 0 1 1 1 1 1 1 1 1 1 1 0 1 1 1 1 1 1 1 1 1 1 1 1\n",
      " 1 1 1 1 1 1 1 1 1 1 1 1 1 1 1 1 1 1 1 1 1 1 0 1 1 1 1 1 1 1 1 1 1 1 1 1 1\n",
      " 1 1 1 1 1 1 1 1 1 1 1 1 1 1 1 1 1 1 1 1 1 0 1 1 1 1 1 1 1 1 1 1 1 1 1 0 1\n",
      " 1 1 1 1 1 1 1 1 1 1 1 1 1 1 1 1 0 0 1 1 1 1 1 1 1 1 1 1 1 1 1 1 1 1 1 1 1\n",
      " 1 1 1 1 1 1 1 1 1 1 1 1 1 1 1 1 1 1 1 1 1 1 1 1 1 1 1 1 1 1 1 1 1 0 1 1 1\n",
      " 1 1 1 1 1 1 1 1 1 1 1 1 1 1 1 1 1 1 1 1 1 1 1 1 1 1 1 1 1 1 1 1 1 1 1 1 1\n",
      " 1 1 1 1 1 1 1 1 1 1 1 1 1 1 1 1 1 1 1 1 1 1 1 1 1 1 1 0 1 1 1 1 1 1 1 1 1\n",
      " 1 0 1 1 1 1 1 1 1 1 1 1 1 1 1 1 1 1 1 1 1 0 1 1 1 1 1 1 1 1 1 1 1 0 1 1 1\n",
      " 1 1 1 1 1 1 1 1 1 1 1 1 1 1 1 1 1 1 1 1 1 1 1 1 1 1 1 1 1 1 1 1 1 1 1 1 1\n",
      " 1 1 1 1 1 1 1 1 0 1 0 1 1 1 1 1 1 1 1 1 1 1 1]\n",
      "score : 0.2275\n",
      "f1_score:\n",
      "0.203094777563\n"
     ]
    },
    {
     "name": "stderr",
     "output_type": "stream",
     "text": [
      "C:\\ProgramData\\Anaconda3\\lib\\site-packages\\sklearn\\discriminant_analysis.py:695: UserWarning: Variables are collinear\n",
      "  warnings.warn(\"Variables are collinear\")\n"
     ]
    }
   ],
   "source": [
    "main.perform_QuadraticDiscriminantAnalysis()"
   ]
  },
  {
   "cell_type": "code",
   "execution_count": null,
   "metadata": {
    "collapsed": true
   },
   "outputs": [],
   "source": []
  }
 ],
 "metadata": {
  "kernelspec": {
   "display_name": "Python 3",
   "language": "python",
   "name": "python3"
  },
  "language_info": {
   "codemirror_mode": {
    "name": "ipython",
    "version": 3
   },
   "file_extension": ".py",
   "mimetype": "text/x-python",
   "name": "python",
   "nbconvert_exporter": "python",
   "pygments_lexer": "ipython3",
   "version": "3.6.1"
  }
 },
 "nbformat": 4,
 "nbformat_minor": 2
}
